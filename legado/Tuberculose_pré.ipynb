{
 "cells": [
  {
   "cell_type": "code",
   "execution_count": 1,
   "metadata": {
    "colab": {
     "base_uri": "https://localhost:8080/"
    },
    "executionInfo": {
     "elapsed": 1674,
     "status": "ok",
     "timestamp": 1733857438308,
     "user": {
      "displayName": "Marcela Quaresma",
      "userId": "03043466333898482850"
     },
     "user_tz": 180
    },
    "id": "IyPfckKvh-bR",
    "outputId": "743e44aa-179d-4b91-9c37-b37b603ae772"
   },
   "outputs": [
    {
     "name": "stdout",
     "output_type": "stream",
     "text": [
      "Drive already mounted at /content/drive; to attempt to forcibly remount, call drive.mount(\"/content/drive\", force_remount=True).\n"
     ]
    }
   ],
   "source": [
    "from google.colab import drive\n",
    "drive.mount('/content/drive')"
   ]
  },
  {
   "cell_type": "code",
   "execution_count": 1,
   "metadata": {
    "executionInfo": {
     "elapsed": 41842,
     "status": "ok",
     "timestamp": 1733863020919,
     "user": {
      "displayName": "Marcela Quaresma",
      "userId": "03043466333898482850"
     },
     "user_tz": 180
    },
    "id": "du7zQD6tibHs"
   },
   "outputs": [],
   "source": [
    "\n",
    "\n",
    "# Caminho do arquivo CSV no Google Drive\n",
    "csv_file = '/content/drive/My Drive/Dados TB 13-23/dados_tuberculose_2013_2023.csv'\n",
    "\n",
    "df = pd.read_csv(csv_file, encoding='latin1', low_memory=False)"
   ]
  },
  {
   "cell_type": "code",
   "execution_count": 19,
   "metadata": {
    "executionInfo": {
     "elapsed": 25836,
     "status": "ok",
     "timestamp": 1733865044594,
     "user": {
      "displayName": "Marcela Quaresma",
      "userId": "03043466333898482850"
     },
     "user_tz": 180
    },
    "id": "y2vuTx-CaIyR"
   },
   "outputs": [],
   "source": [
    "\n",
    "\n",
    "# Caminho do arquivo CSV no Google Drive\n",
    "csv_file = '/content/drive/My Drive/Dados TB 13-23/dados_tuberculose_2013_2023.csv'\n",
    "\n",
    "df = pd.read_csv(csv_file, encoding='latin1', low_memory=False)"
   ]
  },
  {
   "cell_type": "code",
   "execution_count": 2,
   "metadata": {
    "colab": {
     "base_uri": "https://localhost:8080/"
    },
    "executionInfo": {
     "elapsed": 1259,
     "status": "ok",
     "timestamp": 1733863127530,
     "user": {
      "displayName": "Marcela Quaresma",
      "userId": "03043466333898482850"
     },
     "user_tz": 180
    },
    "id": "W8SKM3gEinjT",
    "outputId": "3f79441c-f32e-4915-e819-ba32867e4399"
   },
   "outputs": [
    {
     "name": "stdout",
     "output_type": "stream",
     "text": [
      "<class 'pandas.core.frame.DataFrame'>\n",
      "RangeIndex: 1030663 entries, 0 to 1030662\n",
      "Data columns (total 97 columns):\n",
      " #   Column      Non-Null Count    Dtype  \n",
      "---  ------      --------------    -----  \n",
      " 0   TP_NOT      1030663 non-null  int64  \n",
      " 1   ID_AGRAVO   1030663 non-null  object \n",
      " 2   DT_NOTIFIC  1030663 non-null  object \n",
      " 3   NU_ANO      1030663 non-null  int64  \n",
      " 4   SG_UF_NOT   1030663 non-null  int64  \n",
      " 5   ID_MUNICIP  1030662 non-null  float64\n",
      " 6   ID_REGIONA  790102 non-null   float64\n",
      " 7   DT_DIAG     1030663 non-null  object \n",
      " 8   ANO_NASC    1023227 non-null  object \n",
      " 9   NU_IDADE_N  1030521 non-null  float64\n",
      " 10  CS_SEXO     1030663 non-null  object \n",
      " 11  CS_GESTANT  946296 non-null   float64\n",
      " 12  CS_RACA     1003267 non-null  float64\n",
      " 13  CS_ESCOL_N  985227 non-null   float64\n",
      " 14  SG_UF       1030663 non-null  int64  \n",
      " 15  ID_MN_RESI  1030663 non-null  int64  \n",
      " 16  ID_RG_RESI  788427 non-null   float64\n",
      " 17  ID_PAIS     899079 non-null   float64\n",
      " 18  NDUPLIC_N   484781 non-null   float64\n",
      " 19  IN_VINCULA  489110 non-null   float64\n",
      " 20  DT_DIGITA   465684 non-null   object \n",
      " 21  DT_TRANSUS  5807 non-null     object \n",
      " 22  DT_TRANSDM  0 non-null        float64\n",
      " 23  DT_TRANSSM  0 non-null        float64\n",
      " 24  DT_TRANSRM  0 non-null        float64\n",
      " 25  DT_TRANSRS  0 non-null        float64\n",
      " 26  DT_TRANSSE  0 non-null        float64\n",
      " 27  CS_FLXRET   0 non-null        float64\n",
      " 28  FLXRECEBI   0 non-null        float64\n",
      " 29  MIGRADO_W   433395 non-null   float64\n",
      " 30  ID_OCUPA_N  250642 non-null   float64\n",
      " 31  TRATAMENTO  1030663 non-null  int64  \n",
      " 32  INSTITUCIO  433419 non-null   float64\n",
      " 33  RAIOX_TORA  1019461 non-null  float64\n",
      " 34  TESTE_TUBE  433418 non-null   float64\n",
      " 35  FORMA       1030506 non-null  float64\n",
      " 36  EXTRAPU1_N  950635 non-null   object \n",
      " 37  EXTRAPU2_N  433837 non-null   float64\n",
      " 38  EXTRAPUL_O  14534 non-null    object \n",
      " 39  AGRAVAIDS   1020623 non-null  float64\n",
      " 40  AGRAVALCOO  1021616 non-null  float64\n",
      " 41  AGRAVDIABE  1021018 non-null  float64\n",
      " 42  AGRAVDOENC  1019194 non-null  float64\n",
      " 43  AGRAVOUTRA  838161 non-null   float64\n",
      " 44  AGRAVOUTDE  85651 non-null    object \n",
      " 45  BACILOSC_E  1030518 non-null  float64\n",
      " 46  BACILOS_E2  433444 non-null   object \n",
      " 47  BACILOSC_O  559784 non-null   float64\n",
      " 48  CULTURA_ES  1030518 non-null  float64\n",
      " 49  CULTURA_OU  535825 non-null   float64\n",
      " 50  HIV         1028576 non-null  float64\n",
      " 51  HISTOPATOL  985982 non-null   float64\n",
      " 52  DT_INIC_TR  997341 non-null   object \n",
      " 53  RIFAMPICIN  433411 non-null   float64\n",
      " 54  ISONIAZIDA  433411 non-null   float64\n",
      " 55  ETAMBUTOL   433411 non-null   float64\n",
      " 56  ESTREPTOMI  433409 non-null   float64\n",
      " 57  PIRAZINAMI  433411 non-null   float64\n",
      " 58  ETIONAMIDA  433413 non-null   object \n",
      " 59  OUTRAS      433409 non-null   float64\n",
      " 60  OUTRAS_DES  180943 non-null   object \n",
      " 61  TRAT_SUPER  563457 non-null   float64\n",
      " 62  NU_CONTATO  1010102 non-null  float64\n",
      " 63  DOENCA_TRA  433418 non-null   float64\n",
      " 64  SG_UF_AT    1029166 non-null  float64\n",
      " 65  ID_MUNIC_A  1028917 non-null  float64\n",
      " 66  DT_NOTI_AT  794741 non-null   object \n",
      " 67  SG_UF_2     895571 non-null   float64\n",
      " 68  ID_MUNIC_2  894140 non-null   float64\n",
      " 69  BACILOSC_1  880143 non-null   float64\n",
      " 70  BACILOSC_2  853098 non-null   float64\n",
      " 71  BACILOSC_3  832925 non-null   float64\n",
      " 72  BACILOSC_4  815460 non-null   float64\n",
      " 73  BACILOSC_5  798666 non-null   float64\n",
      " 74  BACILOSC_6  782653 non-null   float64\n",
      " 75  TRATSUP_AT  893798 non-null   float64\n",
      " 76  DT_MUDANCA  433398 non-null   object \n",
      " 77  NU_COMU_EX  929174 non-null   float64\n",
      " 78  SITUA_9_M   433462 non-null   float64\n",
      " 79  SITUA_12_M  88720 non-null    float64\n",
      " 80  SITUA_ENCE  999131 non-null   float64\n",
      " 81  DT_ENCERRA  962963 non-null   object \n",
      " 82  TPUNINOT    814688 non-null   float64\n",
      " 83  POP_LIBER   1018268 non-null  float64\n",
      " 84  POP_RUA     1016592 non-null  float64\n",
      " 85  POP_SAUDE   1016350 non-null  float64\n",
      " 86  POP_IMIG    1015600 non-null  float64\n",
      " 87  BENEF_GOV   876725 non-null   float64\n",
      " 88  AGRAVDROGA  1019029 non-null  float64\n",
      " 89  AGRAVTABAC  1018818 non-null  float64\n",
      " 90  TEST_MOLEC  992885 non-null   float64\n",
      " 91  TEST_SENSI  743464 non-null   float64\n",
      " 92  ANT_RETRO   568636 non-null   float64\n",
      " 93  BAC_APOS_6  605055 non-null   float64\n",
      " 94  TRANSF      477671 non-null   float64\n",
      " 95  UF_TRANSF   50114 non-null    float64\n",
      " 96  MUN_TRANSF  40499 non-null    object \n",
      "dtypes: float64(73), int64(6), object(18)\n",
      "memory usage: 762.7+ MB\n",
      "None\n"
     ]
    }
   ],
   "source": [
    "# Resumo das colunas e tipos de dados\n",
    "print(df.info())"
   ]
  },
  {
   "cell_type": "markdown",
   "metadata": {
    "id": "ZEIQLFE4qZIK"
   },
   "source": [
    "** Principais Variáveis**\n",
    "*  TP_NOT: Tipo de notificação.\n",
    "* ID_AGRAVO: Código do agravo.\n",
    "* DT_NOTIFIC: Data de notificação.\n",
    "* NU_ANO: Ano da notificação.\n",
    "* SG_UF_NOT: Unidade Federativa (UF) da notificação.\n",
    "* ID_MUNICIP: Código do município de notificação.\n",
    "* DT_DIAG: Data do diagnóstico.\n",
    "* ANO_NASC: Ano de nascimento do paciente.\n",
    "* NU_IDADE_N: Idade do paciente em dias.\n",
    "* BENEF_GOV: Indica se o paciente é beneficiário de programa de transferência de renda.\n",
    "* AGRAVDROGA: Uso de drogas ilícitas associado à tuberculose.\n",
    "* AGRAVTABAC: Tabagismo associado à tuberculose.\n",
    "* TEST_MOLEC: Resultado do teste molecular rápido para tuberculose.\n",
    "* TEST_SENSI: Resultado do teste de sensibilidade (resistência a medicamentos).\n",
    "* ANT_RETRO: Uso de terapia antirretroviral durante o tratamento de tuberculose.\n",
    "* BAC_APOS_6: Resultado da baciloscopia de escarro realizada após o 6º mês de tratamento.\n",
    "* TRANSF: Indica se houve transferência do paciente.\n",
    "* UF_TRANSF: Unidade Federativa de destino em caso de transferência.\n",
    "* MUN_TRANSF: Município de destino em caso de transferência.\n",
    "* TP_ENTRADA: Tipo de entrada do paciente (ex.: caso novo, recidiva, reingresso após abandono, transferência, etc.).\n",
    "* FORMA: Forma clínica da tuberculose (ex.: pulmonar, extrapulmonar, etc.).\n",
    "* AGRAVAIDS: Indica coinfecção por HIV/AIDS.\n",
    "* AGRAVDIABE: Indica diabetes associada à tuberculose.\n",
    "* AGRAVALCOO: Indica alcoolismo associado à tuberculose.\n",
    "* RAIOX_TORA: Resultado da radiografia de tórax.\n",
    "* HIV: Resultado do teste de HIV.\n",
    "* CULTURA_ES: Resultado da cultura de escarro para tuberculose.\n",
    "* DT_INIC_TR: Data de início do tratamento atual.\n",
    "* NU_CONT_EX: Número total de contatos examinados durante a investigação e acompanhamento do caso.\n",
    "* SITUA_ENCE: Situação de encerramento do caso (ex.: cura, abandono, óbito por TB, transferência, etc.).\n",
    "\n",
    "\n",
    "\n",
    "\n"
   ]
  },
  {
   "cell_type": "code",
   "execution_count": 3,
   "metadata": {
    "colab": {
     "base_uri": "https://localhost:8080/"
    },
    "executionInfo": {
     "elapsed": 3139,
     "status": "ok",
     "timestamp": 1733863135165,
     "user": {
      "displayName": "Marcela Quaresma",
      "userId": "03043466333898482850"
     },
     "user_tz": 180
    },
    "id": "bJnB1MVooNlP",
    "outputId": "0264d06b-cecf-457c-a5a4-26767914c59f"
   },
   "outputs": [
    {
     "name": "stdout",
     "output_type": "stream",
     "text": [
      "          TP_NOT        NU_ANO     SG_UF_NOT    ID_MUNICIP     ID_REGIONA  \\\n",
      "count  1030663.0  1.030663e+06  1.030663e+06  1.030662e+06  790102.000000   \n",
      "mean         2.0  2.018296e+03  3.120348e+01  3.135945e+05     692.731327   \n",
      "std          0.0  3.206546e+00  9.187508e+00  9.228781e+04    1026.819548   \n",
      "min          2.0  1.981000e+03  1.100000e+01  0.000000e+00       0.000000   \n",
      "25%          2.0  2.016000e+03  2.600000e+01  2.607900e+05     137.000000   \n",
      "50%          2.0  2.018000e+03  3.300000e+01  3.304550e+05     151.000000   \n",
      "75%          2.0  2.021000e+03  3.500000e+01  3.550300e+05    1446.000000   \n",
      "max          2.0  2.024000e+03  5.300000e+01  5.300100e+05    6256.000000   \n",
      "\n",
      "         NU_IDADE_N     CS_GESTANT       CS_RACA     CS_ESCOL_N         SG_UF  \\\n",
      "count  1.030521e+06  946296.000000  1.003267e+06  985227.000000  1.030663e+06   \n",
      "mean   4.031932e+03       5.611312  3.088065e+00       4.589354  3.118354e+01   \n",
      "std    1.315187e+02       1.228703  1.960786e+00       3.026682  9.189567e+00   \n",
      "min    0.000000e+00       0.000000  0.000000e+00       0.000000  0.000000e+00   \n",
      "25%    4.027000e+03       5.000000  1.000000e+00       2.000000  2.600000e+01   \n",
      "50%    4.038000e+03       6.000000  4.000000e+00       4.000000  3.300000e+01   \n",
      "75%    4.052000e+03       6.000000  4.000000e+00       7.000000  3.500000e+01   \n",
      "max    4.119000e+03       9.000000  9.000000e+00      10.000000  5.300000e+01   \n",
      "\n",
      "       ...      POP_IMIG      BENEF_GOV    AGRAVDROGA    AGRAVTABAC  \\\n",
      "count  ...  1.015600e+06  876725.000000  1.019029e+06  1.018818e+06   \n",
      "mean   ...  1.976901e+00       2.475047  2.037968e+00  1.943275e+00   \n",
      "std    ...  1.477078e+00       2.845235  1.819182e+00  1.788476e+00   \n",
      "min    ...  0.000000e+00       0.000000  0.000000e+00  0.000000e+00   \n",
      "25%    ...  2.000000e+00       1.000000  2.000000e+00  1.000000e+00   \n",
      "50%    ...  2.000000e+00       2.000000  2.000000e+00  2.000000e+00   \n",
      "75%    ...  2.000000e+00       2.000000  2.000000e+00  2.000000e+00   \n",
      "max    ...  9.000000e+00       9.000000  9.000000e+00  9.000000e+00   \n",
      "\n",
      "          TEST_MOLEC     TEST_SENSI      ANT_RETRO     BAC_APOS_6  \\\n",
      "count  992885.000000  743464.000000  568636.000000  605055.000000   \n",
      "mean        3.054717       4.159107       0.715539       1.447021   \n",
      "std         2.140307       3.162812       1.411470       1.670462   \n",
      "min         0.000000       0.000000       0.000000       0.000000   \n",
      "25%         1.000000       0.000000       0.000000       0.000000   \n",
      "50%         5.000000       5.000000       0.000000       0.000000   \n",
      "75%         5.000000       7.000000       1.000000       3.000000   \n",
      "max         9.000000       9.000000       9.000000       9.000000   \n",
      "\n",
      "              TRANSF     UF_TRANSF  \n",
      "count  477671.000000  50114.000000  \n",
      "mean        0.296865     30.482320  \n",
      "std         0.971158      9.629406  \n",
      "min         0.000000      9.000000  \n",
      "25%         0.000000     26.000000  \n",
      "50%         0.000000     32.000000  \n",
      "75%         0.000000     33.000000  \n",
      "max         9.000000     53.000000  \n",
      "\n",
      "[8 rows x 79 columns]\n"
     ]
    }
   ],
   "source": [
    "# Estatísticas básicas das colunas numéricas\n",
    "print(df.describe())"
   ]
  },
  {
   "cell_type": "markdown",
   "metadata": {
    "id": "DKNGep7Yrh03"
   },
   "source": [
    "Situações de encerramento (SITUA_ENCE)\n",
    "\n",
    "1. Cura\n",
    "2. Abandono\n",
    "3. Óbito por TB\n",
    "4. Óbito por outras causas\n",
    "5. Transferência\n",
    "6. Mudança de Diagnóstico\n",
    "7. TB-DR\n",
    "8. Mudança de Esquema\n",
    "9. Falência\n",
    "10. Abandono Primário\n",
    "\n",
    "\n",
    "**DESFECHOS DE INTERESSE:**\n",
    "\n",
    "* Cura = 1\n",
    "* Abandono = 2 e 10\n",
    "* Óbito = 3\n",
    "* TB-DR = 7 ??\n"
   ]
  },
  {
   "cell_type": "code",
   "execution_count": 4,
   "metadata": {
    "colab": {
     "base_uri": "https://localhost:8080/"
    },
    "executionInfo": {
     "elapsed": 4,
     "status": "ok",
     "timestamp": 1733863136973,
     "user": {
      "displayName": "Marcela Quaresma",
      "userId": "03043466333898482850"
     },
     "user_tz": 180
    },
    "id": "YeMRilVtr5uO",
    "outputId": "5a59fc2b-e7bf-44da-a413-48b12c01ca0b"
   },
   "outputs": [
    {
     "name": "stdout",
     "output_type": "stream",
     "text": [
      "SITUA_ENCE\n",
      " 1.0     662502\n",
      " 2.0     140315\n",
      " 5.0      65187\n",
      " 4.0      43635\n",
      " 3.0      39181\n",
      " 0.0      11542\n",
      " 7.0      10797\n",
      " 6.0      10555\n",
      " 10.0      8023\n",
      " 8.0       6651\n",
      " 9.0        742\n",
      "-1.0          1\n",
      "Name: count, dtype: int64\n"
     ]
    }
   ],
   "source": [
    "# Verificar valores únicos da variável de desfecho\n",
    "print(df['SITUA_ENCE'].value_counts())"
   ]
  },
  {
   "cell_type": "code",
   "execution_count": 5,
   "metadata": {
    "colab": {
     "base_uri": "https://localhost:8080/"
    },
    "executionInfo": {
     "elapsed": 220,
     "status": "ok",
     "timestamp": 1733863140052,
     "user": {
      "displayName": "Marcela Quaresma",
      "userId": "03043466333898482850"
     },
     "user_tz": 180
    },
    "id": "FfSssZPGx5dH",
    "outputId": "f5856970-6413-4359-ceda-c1162e87c82a"
   },
   "outputs": [
    {
     "name": "stdout",
     "output_type": "stream",
     "text": [
      "['A169' 'A16.' 'A144']\n",
      "ID_AGRAVO\n",
      "A169    1030659\n",
      "A16.          3\n",
      "A144          1\n",
      "Name: count, dtype: int64\n"
     ]
    }
   ],
   "source": [
    "# Verificar os valores únicos da variável ID_AGRAVO\n",
    "print(df['ID_AGRAVO'].unique())\n",
    "\n",
    "# Contar a frequência de cada valor\n",
    "print(df['ID_AGRAVO'].value_counts())\n"
   ]
  },
  {
   "cell_type": "markdown",
   "metadata": {
    "id": "g0u6Plmt-w-2"
   },
   "source": [
    "Remover linhas:\n",
    "A16.(3 registros): Tuberculose pulmonar sem confirmação bacteriológica ou histológica.\n",
    "A144(1 registro): Tuberculose do sistema geniturinário.\n",
    "\n",
    "Remover a variável, pois não tem valor preditivo se todos os regitros são = A16.9"
   ]
  },
  {
   "cell_type": "code",
   "execution_count": 6,
   "metadata": {
    "executionInfo": {
     "elapsed": 1936,
     "status": "ok",
     "timestamp": 1733863147378,
     "user": {
      "displayName": "Marcela Quaresma",
      "userId": "03043466333898482850"
     },
     "user_tz": 180
    },
    "id": "BxrK9vMLyPWa"
   },
   "outputs": [],
   "source": [
    "# Filtrar apenas registros com ID_AGRAVO igual a 'A169'\n",
    "df = df[df['ID_AGRAVO'] == 'A169']\n",
    "\n",
    "# Remover a coluna ID_AGRAVO\n",
    "df = df.drop(columns=['ID_AGRAVO'], errors='ignore')"
   ]
  },
  {
   "cell_type": "code",
   "execution_count": 7,
   "metadata": {
    "colab": {
     "base_uri": "https://localhost:8080/"
    },
    "executionInfo": {
     "elapsed": 900,
     "status": "ok",
     "timestamp": 1733863151247,
     "user": {
      "displayName": "Marcela Quaresma",
      "userId": "03043466333898482850"
     },
     "user_tz": 180
    },
    "id": "6hmBm3PZ10As",
    "outputId": "fdc35216-d5a5-409d-d73f-a4fb4276bdb9"
   },
   "outputs": [
    {
     "name": "stdout",
     "output_type": "stream",
     "text": [
      "Colunas restantes no DataFrame após remoção:\n",
      "Index(['NU_ANO', 'SG_UF_NOT', 'ID_MUNICIP', 'ID_REGIONA', 'DT_DIAG',\n",
      "       'NU_IDADE_N', 'CS_SEXO', 'CS_GESTANT', 'CS_RACA', 'CS_ESCOL_N', 'SG_UF',\n",
      "       'ID_MN_RESI', 'ID_RG_RESI', 'ID_PAIS', 'ID_OCUPA_N', 'TRATAMENTO',\n",
      "       'RAIOX_TORA', 'TESTE_TUBE', 'FORMA', 'EXTRAPU1_N', 'EXTRAPU2_N',\n",
      "       'AGRAVAIDS', 'AGRAVALCOO', 'AGRAVDIABE', 'AGRAVDOENC', 'AGRAVOUTRA',\n",
      "       'BACILOSC_E', 'BACILOS_E2', 'BACILOSC_O', 'CULTURA_ES', 'CULTURA_OU',\n",
      "       'HIV', 'HISTOPATOL', 'DT_INIC_TR', 'RIFAMPICIN', 'ISONIAZIDA',\n",
      "       'ETAMBUTOL', 'ESTREPTOMI', 'PIRAZINAMI', 'ETIONAMIDA', 'OUTRAS',\n",
      "       'OUTRAS_DES', 'TRAT_SUPER', 'NU_CONTATO', 'DOENCA_TRA', 'SG_UF_AT',\n",
      "       'ID_MUNIC_A', 'DT_NOTI_AT', 'SG_UF_2', 'ID_MUNIC_2', 'BACILOSC_1',\n",
      "       'BACILOSC_2', 'BACILOSC_3', 'BACILOSC_4', 'BACILOSC_5', 'BACILOSC_6',\n",
      "       'TRATSUP_AT', 'DT_MUDANCA', 'NU_COMU_EX', 'SITUA_9_M', 'SITUA_12_M',\n",
      "       'SITUA_ENCE', 'DT_ENCERRA', 'TPUNINOT', 'POP_LIBER', 'POP_RUA',\n",
      "       'POP_SAUDE', 'POP_IMIG', 'BENEF_GOV', 'AGRAVDROGA', 'AGRAVTABAC',\n",
      "       'TEST_MOLEC', 'TEST_SENSI', 'ANT_RETRO', 'BAC_APOS_6', 'TRANSF'],\n",
      "      dtype='object')\n"
     ]
    }
   ],
   "source": [
    "# Lista de colunas sem valor preditivo e com altos valores ausentes\n",
    "columns_to_drop = [\n",
    "    'TP_NOT',      # Tipo de notificação, sempre será individual, irrelevante para o modelo.\n",
    "    'DT_NOTIFIC',  # Data da notificação não contribui para prever o abandono.\n",
    "    'ANO_NASC',    # Ano de nascimento já é representado por idade (NU_IDADE_N).\n",
    "    'NDUPLIC_N',   # Indicador de duplicidade da notificação, irrelevante para o modelo.\n",
    "    'DT_TRANSDM',  # Data de transmissão ao nível estadual (Distrito de Saúde), irrelevante.\n",
    "    'DT_TRANSSM',  # Data de transmissão ao nível estadual (Vigilância Sanitária), irrelevante.\n",
    "    'DT_TRANSRM',  # Data de transmissão ao nível municipal, irrelevante.\n",
    "    'DT_TRANSRS',  # Data de transmissão ao nível estadual (Regional de Saúde), irrelevante.\n",
    "    'DT_TRANSSE',  # Data de transmissão ao nível estadual (Região Sudeste), irrelevante.\n",
    "    'CS_FLXRET',   # Indicador de fluxo de retorno, sem preenchimento no dataset.\n",
    "    'FLXRECEBI',   # Indicador de fluxo recebido, sem preenchimento no dataset.\n",
    "    'MIGRADO_W',   # Indicador de migração entre sistemas, irrelevante para o modelo.\n",
    "    'DT_DIGITA',   # Data da digitação da notificação, sem relação com o abandono.\n",
    "    'DT_TRANSUS',  # Data de transmissão para o SUS, irrelevante.\n",
    "    'EXTRAPUL_O',  # Formas extrapulmonares detalhadas, irrelevante e com muitos missing.\n",
    "    'MUN_TRANSF',  # Município de transferência, irrelevante para o modelo.\n",
    "    'UF_TRANSF',   # Unidade Federativa de transferência, irrelevante.\n",
    "    'AGRAVOUTDE',   # Descrição de outras comorbidades, alta ausência e pouco impacto.\n",
    "    'IN_VINCULA',   # Indica se a notificação está vinculada a outra (ex.: continuidade de um caso anterior). Já essa informação em tipo de entrada\n",
    "    'INSTITUCIO'   # Identifique uma instituição de saúde responsável pela notificação, irrelevant\n",
    "]\n",
    "\n",
    "# Remover as colunas do DataFrame\n",
    "df = df.drop(columns=columns_to_drop, errors='ignore')\n",
    "\n",
    "# Verificar as colunas restantes\n",
    "print(\"Colunas restantes no DataFrame após remoção:\")\n",
    "print(df.columns)\n"
   ]
  },
  {
   "cell_type": "code",
   "execution_count": 8,
   "metadata": {
    "colab": {
     "base_uri": "https://localhost:8080/"
    },
    "executionInfo": {
     "elapsed": 914,
     "status": "ok",
     "timestamp": 1733863159946,
     "user": {
      "displayName": "Marcela Quaresma",
      "userId": "03043466333898482850"
     },
     "user_tz": 180
    },
    "id": "Fx3Ge-b7rfoq",
    "outputId": "e4bb1cbf-d3bf-4d08-c7c8-c1df251ac427"
   },
   "outputs": [
    {
     "name": "stdout",
     "output_type": "stream",
     "text": [
      "SITUA_12_M    0.913921\n",
      "OUTRAS_DES    0.824443\n",
      "ID_OCUPA_N    0.756818\n",
      "DT_MUDANCA    0.579498\n",
      "OUTRAS        0.579487\n",
      "                ...   \n",
      "SG_UF_NOT     0.000000\n",
      "SG_UF         0.000000\n",
      "ID_MN_RESI    0.000000\n",
      "TRATAMENTO    0.000000\n",
      "NU_ANO        0.000000\n",
      "Length: 76, dtype: float64\n"
     ]
    }
   ],
   "source": [
    "# Verificar a proporção de valores ausentes\n",
    "print(df.isnull().mean().sort_values(ascending=False))"
   ]
  },
  {
   "cell_type": "code",
   "execution_count": 9,
   "metadata": {
    "colab": {
     "base_uri": "https://localhost:8080/"
    },
    "executionInfo": {
     "elapsed": 905,
     "status": "ok",
     "timestamp": 1733863165206,
     "user": {
      "displayName": "Marcela Quaresma",
      "userId": "03043466333898482850"
     },
     "user_tz": 180
    },
    "id": "j_LH3ApttMI7",
    "outputId": "56a054e4-4804-424c-a747-d059196b7eb6"
   },
   "outputs": [
    {
     "name": "stdout",
     "output_type": "stream",
     "text": [
      "Colunas com mais de 50% de valores ausentes: Index(['ID_OCUPA_N', 'TESTE_TUBE', 'EXTRAPU2_N', 'BACILOS_E2', 'RIFAMPICIN',\n",
      "       'ISONIAZIDA', 'ETAMBUTOL', 'ESTREPTOMI', 'PIRAZINAMI', 'ETIONAMIDA',\n",
      "       'OUTRAS', 'OUTRAS_DES', 'DOENCA_TRA', 'DT_MUDANCA', 'SITUA_9_M',\n",
      "       'SITUA_12_M', 'TRANSF'],\n",
      "      dtype='object')\n"
     ]
    }
   ],
   "source": [
    "# Listar colunas com mais de 50% de valores ausentes\n",
    "missing_cols = df.columns[df.isnull().mean() > 0.5]\n",
    "print(\"Colunas com mais de 50% de valores ausentes:\", missing_cols)"
   ]
  },
  {
   "cell_type": "code",
   "execution_count": 10,
   "metadata": {
    "colab": {
     "base_uri": "https://localhost:8080/"
    },
    "executionInfo": {
     "elapsed": 1849,
     "status": "ok",
     "timestamp": 1733863169545,
     "user": {
      "displayName": "Marcela Quaresma",
      "userId": "03043466333898482850"
     },
     "user_tz": 180
    },
    "id": "V_3ALLGVH8dC",
    "outputId": "16d3b5a9-c876-4a2d-a6d8-f8df6a5c1d37"
   },
   "outputs": [
    {
     "name": "stdout",
     "output_type": "stream",
     "text": [
      "Valores únicos na coluna NU_ANO antes do filtro:\n",
      "[2013 2014 2015 2016 2017 2018 2022 2004 2012 2002 1990 1991 2007 1989\n",
      " 2011 1988 2010 2001 2019 2021 2020 1995 1992 1987 2009 1998 1981 1985\n",
      " 2006 1999 1997 1983 1993 2003 2008 2023 2024]\n",
      "\n",
      "Valores únicos na coluna NU_ANO após o filtro:\n",
      "[2013 2014 2015 2016 2017 2018 2022 2019 2021 2020 2023]\n",
      "\n",
      "Preenchimento da variável 'ID_OCUPA_N' por ano:\n",
      "NU_ANO\n",
      "2013    49.289247\n",
      "2014    38.394205\n",
      "2015     0.518676\n",
      "2016    96.575662\n",
      "2017    99.750933\n",
      "2018     3.318792\n",
      "2019     0.223268\n",
      "2020     0.082728\n",
      "2021     0.026703\n",
      "2022     0.013141\n",
      "2023     0.001752\n",
      "Name: ID_OCUPA_N, dtype: float64\n",
      "\n",
      "Preenchimento da variável 'TESTE_TUBE' por ano:\n",
      "NU_ANO\n",
      "2013    100.000000\n",
      "2014    100.000000\n",
      "2015    100.000000\n",
      "2016    100.000000\n",
      "2017    100.000000\n",
      "2018      3.396956\n",
      "2019      0.245494\n",
      "2020      0.087261\n",
      "2021      0.030976\n",
      "2022      0.019711\n",
      "2023      0.016643\n",
      "Name: TESTE_TUBE, dtype: float64\n",
      "\n",
      "Preenchimento da variável 'EXTRAPU2_N' por ano:\n",
      "NU_ANO\n",
      "2013    100.000000\n",
      "2014    100.000000\n",
      "2015    100.000000\n",
      "2016    100.000000\n",
      "2017    100.000000\n",
      "2018      3.524764\n",
      "2019      0.322274\n",
      "2020      0.147324\n",
      "2021      0.099337\n",
      "2022      0.069459\n",
      "2023      0.062192\n",
      "Name: EXTRAPU2_N, dtype: float64\n",
      "\n",
      "Preenchimento da variável 'BACILOS_E2' por ano:\n",
      "NU_ANO\n",
      "2013    100.000000\n",
      "2014    100.000000\n",
      "2015    100.000000\n",
      "2016    100.000000\n",
      "2017    100.000000\n",
      "2018      3.403293\n",
      "2019      0.249535\n",
      "2020      0.095194\n",
      "2021      0.036317\n",
      "2022      0.019711\n",
      "2023      0.020147\n",
      "Name: BACILOS_E2, dtype: float64\n",
      "\n",
      "Preenchimento da variável 'RIFAMPICIN' por ano:\n",
      "NU_ANO\n",
      "2013    100.000000\n",
      "2014    100.000000\n",
      "2015    100.000000\n",
      "2016    100.000000\n",
      "2017    100.000000\n",
      "2018      3.396956\n",
      "2019      0.245494\n",
      "2020      0.087261\n",
      "2021      0.030976\n",
      "2022      0.019711\n",
      "2023      0.011387\n",
      "Name: RIFAMPICIN, dtype: float64\n",
      "\n",
      "Preenchimento da variável 'ISONIAZIDA' por ano:\n",
      "NU_ANO\n",
      "2013    100.000000\n",
      "2014    100.000000\n",
      "2015    100.000000\n",
      "2016    100.000000\n",
      "2017    100.000000\n",
      "2018      3.396956\n",
      "2019      0.245494\n",
      "2020      0.087261\n",
      "2021      0.030976\n",
      "2022      0.019711\n",
      "2023      0.011387\n",
      "Name: ISONIAZIDA, dtype: float64\n",
      "\n",
      "Preenchimento da variável 'ETAMBUTOL' por ano:\n",
      "NU_ANO\n",
      "2013    100.000000\n",
      "2014    100.000000\n",
      "2015    100.000000\n",
      "2016    100.000000\n",
      "2017    100.000000\n",
      "2018      3.396956\n",
      "2019      0.245494\n",
      "2020      0.087261\n",
      "2021      0.030976\n",
      "2022      0.019711\n",
      "2023      0.011387\n",
      "Name: ETAMBUTOL, dtype: float64\n",
      "\n",
      "Preenchimento da variável 'ESTREPTOMI' por ano:\n",
      "NU_ANO\n",
      "2013    100.000000\n",
      "2014    100.000000\n",
      "2015    100.000000\n",
      "2016    100.000000\n",
      "2017    100.000000\n",
      "2018      3.396956\n",
      "2019      0.245494\n",
      "2020      0.087261\n",
      "2021      0.030976\n",
      "2022      0.019711\n",
      "2023      0.009635\n",
      "Name: ESTREPTOMI, dtype: float64\n",
      "\n",
      "Preenchimento da variável 'PIRAZINAMI' por ano:\n",
      "NU_ANO\n",
      "2013    100.000000\n",
      "2014    100.000000\n",
      "2015    100.000000\n",
      "2016    100.000000\n",
      "2017    100.000000\n",
      "2018      3.396956\n",
      "2019      0.245494\n",
      "2020      0.087261\n",
      "2021      0.030976\n",
      "2022      0.019711\n",
      "2023      0.011387\n",
      "Name: PIRAZINAMI, dtype: float64\n",
      "\n",
      "Preenchimento da variável 'ETIONAMIDA' por ano:\n",
      "NU_ANO\n",
      "2013    100.000000\n",
      "2014    100.000000\n",
      "2015    100.000000\n",
      "2016    100.000000\n",
      "2017    100.000000\n",
      "2018      3.396956\n",
      "2019      0.245494\n",
      "2020      0.088394\n",
      "2021      0.030976\n",
      "2022      0.019711\n",
      "2023      0.012263\n",
      "Name: ETIONAMIDA, dtype: float64\n",
      "\n",
      "Preenchimento da variável 'OUTRAS' por ano:\n",
      "NU_ANO\n",
      "2013    100.000000\n",
      "2014    100.000000\n",
      "2015    100.000000\n",
      "2016    100.000000\n",
      "2017    100.000000\n",
      "2018      3.395900\n",
      "2019      0.245494\n",
      "2020      0.087261\n",
      "2021      0.030976\n",
      "2022      0.019711\n",
      "2023      0.010511\n",
      "Name: OUTRAS, dtype: float64\n",
      "\n",
      "Preenchimento da variável 'OUTRAS_DES' por ano:\n",
      "NU_ANO\n",
      "2013     2.828679\n",
      "2014     2.381795\n",
      "2015     0.187756\n",
      "2016    96.575662\n",
      "2017    99.750933\n",
      "2018     3.318792\n",
      "2019     0.223268\n",
      "2020     0.082728\n",
      "2021     0.026703\n",
      "2022     0.013141\n",
      "2023     0.005256\n",
      "Name: OUTRAS_DES, dtype: float64\n",
      "\n",
      "Preenchimento da variável 'DOENCA_TRA' por ano:\n",
      "NU_ANO\n",
      "2013    100.000000\n",
      "2014    100.000000\n",
      "2015    100.000000\n",
      "2016    100.000000\n",
      "2017    100.000000\n",
      "2018      3.396956\n",
      "2019      0.245494\n",
      "2020      0.087261\n",
      "2021      0.030976\n",
      "2022      0.019711\n",
      "2023      0.016643\n",
      "Name: DOENCA_TRA, dtype: float64\n",
      "\n",
      "Preenchimento da variável 'DT_MUDANCA' por ano:\n",
      "NU_ANO\n",
      "2013    100.000000\n",
      "2014    100.000000\n",
      "2015    100.000000\n",
      "2016    100.000000\n",
      "2017    100.000000\n",
      "2018      3.395900\n",
      "2019      0.245494\n",
      "2020      0.087261\n",
      "2021      0.030976\n",
      "2022      0.019711\n",
      "2023      0.001752\n",
      "Name: DT_MUDANCA, dtype: float64\n",
      "\n",
      "Preenchimento da variável 'SITUA_9_M' por ano:\n",
      "NU_ANO\n",
      "2013    100.000000\n",
      "2014    100.000000\n",
      "2015    100.000000\n",
      "2016    100.000000\n",
      "2017    100.000000\n",
      "2018      3.414912\n",
      "2019      0.255597\n",
      "2020      0.094061\n",
      "2021      0.038453\n",
      "2022      0.023466\n",
      "2023      0.017519\n",
      "Name: SITUA_9_M, dtype: float64\n",
      "\n",
      "Preenchimento da variável 'SITUA_12_M' por ano:\n",
      "NU_ANO\n",
      "2013     1.691473\n",
      "2014     1.212722\n",
      "2015     0.185409\n",
      "2016    96.575662\n",
      "2017     3.391744\n",
      "2018     0.169003\n",
      "2019     0.059606\n",
      "2020     0.024932\n",
      "2021     0.001068\n",
      "2022     0.005632\n",
      "2023     0.004380\n",
      "Name: SITUA_12_M, dtype: float64\n",
      "\n",
      "Preenchimento da variável 'TRANSF' por ano:\n",
      "NU_ANO\n",
      "2013    100.000000\n",
      "2014    100.000000\n",
      "2015    100.000000\n",
      "2016    100.000000\n",
      "2017    100.000000\n",
      "2018     10.065172\n",
      "2019      6.776853\n",
      "2020      6.659036\n",
      "2021      7.386163\n",
      "2022      7.734402\n",
      "2023      8.875906\n",
      "Name: TRANSF, dtype: float64\n"
     ]
    }
   ],
   "source": [
    "import pandas as pd\n",
    "\n",
    "# Lista de colunas com mais de 50% de valores ausentes\n",
    "colunas_ausentes = [\n",
    "    'ID_OCUPA_N', 'TESTE_TUBE', 'EXTRAPU2_N', 'BACILOS_E2', 'RIFAMPICIN',\n",
    "    'ISONIAZIDA', 'ETAMBUTOL', 'ESTREPTOMI', 'PIRAZINAMI', 'ETIONAMIDA',\n",
    "    'OUTRAS', 'OUTRAS_DES', 'DOENCA_TRA', 'DT_MUDANCA', 'SITUA_9_M',\n",
    "    'SITUA_12_M', 'TRANSF'\n",
    "]\n",
    "\n",
    "# Nome da coluna de ano\n",
    "coluna_ano = 'NU_ANO'\n",
    "\n",
    "# Verificar valores únicos na coluna NU_ANO\n",
    "print(\"Valores únicos na coluna NU_ANO antes do filtro:\")\n",
    "print(df[coluna_ano].unique())\n",
    "\n",
    "# Filtrar para incluir apenas os anos entre 2013 e 2023\n",
    "df = df[df[coluna_ano].between(2013, 2023)]\n",
    "\n",
    "# Verificar valores únicos após o filtro\n",
    "print(\"\\nValores únicos na coluna NU_ANO após o filtro:\")\n",
    "print(df[coluna_ano].unique())\n",
    "\n",
    "# Analisar a proporção de preenchimento para cada variável em cada ano\n",
    "for coluna in colunas_ausentes:\n",
    "    if coluna in df.columns:\n",
    "        print(f\"\\nPreenchimento da variável '{coluna}' por ano:\")\n",
    "        preenchimento_por_ano = (\n",
    "            df.groupby(coluna_ano)[coluna].apply(lambda x: x.notna().mean() * 100)\n",
    "        )\n",
    "        print(preenchimento_por_ano)\n",
    "    else:\n",
    "        print(f\"\\nA coluna '{coluna}' não está presente no DataFrame.\")\n",
    "\n"
   ]
  },
  {
   "cell_type": "markdown",
   "metadata": {
    "id": "-AWLVBHrt717"
   },
   "source": [
    "Significado das Variáveis ​​com mais de 50% de valores ausentes\n",
    "\n",
    "\n",
    "**RELEVANTES**\n",
    "\n",
    "ID_OCUPA_N: Código de ocupação do paciente -> Pode ter alguma relevância dependendo da ocupação estar associada ao abandono (ex.: trabalhadores informais, desempregados).\n",
    "\n",
    "TESTE_TUBE: Indica se o teste rápido para tuberculose foi realizado.\n",
    "Relevância : Pode ser relevante, pois a realização ou não do teste pode influenciar o desfecho.\n",
    "\n",
    "EXTRAPU2_N: Informação sobre uma forma extrapulmonar adicional da tuberculose.\n",
    "Pode ser relevante em casos específicos, mas associada diretamente ao abandono.\n",
    "\n",
    "BACILOS_E2: Resultado do segundo exame de baciloscopia, se realizado.\n",
    "Relevância : Alta, pois exames complementares podem estar associados ao seguimento do tratamento.\n",
    "\n",
    "RESITÊNCIA (ALTA RELEVANCIA, PORÉM NEM SEMPRE É RELIZADO, SOBRETUDO NAS DATAS ANTERIORES)\n",
    "\n",
    "RIFAMPICIN:Resistência à rifampicina\n",
    "ISONIAZIDA:Resistência à isoniazida\n",
    "ETAMBUTOL:Resistência ao etambutol\n",
    "ESTREPTOMI:Resistência à estreptomicina (antibiótico usado sem tratamento).\n",
    "PIRAZINAMI: Resistência à pirazinamida (medicamento usado sem tratamento).\n",
    "ETIONAMIDA: Resistência à etionamida (medicamento usado sem tratamento).\n",
    "OUTRAS_DES:Resistência a outros m relevante se bem preenchido.\n",
    "\n",
    "\n",
    "DOENCA_TRA:Indica doenças tratadas em conjunto com a tuberculose.\n",
    "Relevância : Moderada, pois comorbidades podem influenciar o abandono.\n",
    "\n",
    "DT_MUDANCA:Dados de mudança de esquema terapêutico.\n",
    "Relevância : Alta, pois mudança no esquema pode indicar complicações no tratamento -> preciso ver se há outras colunas que dizem a mesma coisa\n",
    "\n",
    "\n",
    "**Nem sempre serão preenchidos**\n",
    "Tto pode durar 6 meses:\n",
    "SITUA_9_M: Situação de acompanhamento após 9 meses de tratamento.\n",
    "SITUA_12_M: Situação de acompanhamento após 12 meses de tratamento.\n",
    "\n",
    "Pode não haver tranferencia\n",
    "TRANSF: Indica transferência do paciente para outra unidade de saúde.\n"
   ]
  },
  {
   "cell_type": "code",
   "execution_count": 11,
   "metadata": {
    "colab": {
     "base_uri": "https://localhost:8080/"
    },
    "executionInfo": {
     "elapsed": 753,
     "status": "ok",
     "timestamp": 1733863179673,
     "user": {
      "displayName": "Marcela Quaresma",
      "userId": "03043466333898482850"
     },
     "user_tz": 180
    },
    "id": "WzGV0_wX9hzA",
    "outputId": "1c60bcb0-2d37-4365-f2ce-2d5ba37393ec"
   },
   "outputs": [
    {
     "name": "stdout",
     "output_type": "stream",
     "text": [
      "<class 'pandas.core.frame.DataFrame'>\n",
      "Index: 1025965 entries, 0 to 1030649\n",
      "Data columns (total 76 columns):\n",
      " #   Column      Non-Null Count    Dtype  \n",
      "---  ------      --------------    -----  \n",
      " 0   NU_ANO      1025965 non-null  int64  \n",
      " 1   SG_UF_NOT   1025965 non-null  int64  \n",
      " 2   ID_MUNICIP  1025964 non-null  float64\n",
      " 3   ID_REGIONA  787156 non-null   float64\n",
      " 4   DT_DIAG     1025965 non-null  object \n",
      " 5   NU_IDADE_N  1025825 non-null  float64\n",
      " 6   CS_SEXO     1025965 non-null  object \n",
      " 7   CS_GESTANT  942259 non-null   float64\n",
      " 8   CS_RACA     999572 non-null   float64\n",
      " 9   CS_ESCOL_N  980847 non-null   float64\n",
      " 10  SG_UF       1025965 non-null  int64  \n",
      " 11  ID_MN_RESI  1025965 non-null  int64  \n",
      " 12  ID_RG_RESI  785494 non-null   float64\n",
      " 13  ID_PAIS     895422 non-null   float64\n",
      " 14  ID_OCUPA_N  250614 non-null   float64\n",
      " 15  TRATAMENTO  1025965 non-null  int64  \n",
      " 16  RAIOX_TORA  1014870 non-null  float64\n",
      " 17  TESTE_TUBE  433351 non-null   float64\n",
      " 18  FORMA       1025809 non-null  float64\n",
      " 19  EXTRAPU1_N  945937 non-null   object \n",
      " 20  EXTRAPU2_N  433770 non-null   float64\n",
      " 21  AGRAVAIDS   1016042 non-null  float64\n",
      " 22  AGRAVALCOO  1017031 non-null  float64\n",
      " 23  AGRAVDIABE  1016441 non-null  float64\n",
      " 24  AGRAVDOENC  1014638 non-null  float64\n",
      " 25  AGRAVOUTRA  835038 non-null   float64\n",
      " 26  BACILOSC_E  1025820 non-null  float64\n",
      " 27  BACILOS_E2  433377 non-null   object \n",
      " 28  BACILOSC_O  558676 non-null   float64\n",
      " 29  CULTURA_ES  1025820 non-null  float64\n",
      " 30  CULTURA_OU  534897 non-null   float64\n",
      " 31  HIV         1023901 non-null  float64\n",
      " 32  HISTOPATOL  981638 non-null   float64\n",
      " 33  DT_INIC_TR  992930 non-null   object \n",
      " 34  RIFAMPICIN  433345 non-null   float64\n",
      " 35  ISONIAZIDA  433345 non-null   float64\n",
      " 36  ETAMBUTOL   433345 non-null   float64\n",
      " 37  ESTREPTOMI  433343 non-null   float64\n",
      " 38  PIRAZINAMI  433345 non-null   float64\n",
      " 39  ETIONAMIDA  433347 non-null   object \n",
      " 40  OUTRAS      433343 non-null   float64\n",
      " 41  OUTRAS_DES  180915 non-null   object \n",
      " 42  TRAT_SUPER  562346 non-null   float64\n",
      " 43  NU_CONTATO  1005766 non-null  float64\n",
      " 44  DOENCA_TRA  433351 non-null   float64\n",
      " 45  SG_UF_AT    1024538 non-null  float64\n",
      " 46  ID_MUNIC_A  1024290 non-null  float64\n",
      " 47  DT_NOTI_AT  791218 non-null   object \n",
      " 48  SG_UF_2     891994 non-null   float64\n",
      " 49  ID_MUNIC_2  890565 non-null   float64\n",
      " 50  BACILOSC_1  877328 non-null   float64\n",
      " 51  BACILOSC_2  850643 non-null   float64\n",
      " 52  BACILOSC_3  830713 non-null   float64\n",
      " 53  BACILOSC_4  813484 non-null   float64\n",
      " 54  BACILOSC_5  796898 non-null   float64\n",
      " 55  BACILOSC_6  781081 non-null   float64\n",
      " 56  TRATSUP_AT  890741 non-null   float64\n",
      " 57  DT_MUDANCA  433333 non-null   object \n",
      " 58  NU_COMU_EX  926143 non-null   float64\n",
      " 59  SITUA_9_M   433396 non-null   float64\n",
      " 60  SITUA_12_M  88694 non-null    float64\n",
      " 61  SITUA_ENCE  996449 non-null   float64\n",
      " 62  DT_ENCERRA  960579 non-null   object \n",
      " 63  TPUNINOT    811255 non-null   float64\n",
      " 64  POP_LIBER   1013695 non-null  float64\n",
      " 65  POP_RUA     1012036 non-null  float64\n",
      " 66  POP_SAUDE   1011797 non-null  float64\n",
      " 67  POP_IMIG    1011052 non-null  float64\n",
      " 68  BENEF_GOV   873318 non-null   float64\n",
      " 69  AGRAVDROGA  1014465 non-null  float64\n",
      " 70  AGRAVTABAC  1014255 non-null  float64\n",
      " 71  TEST_MOLEC  988439 non-null   float64\n",
      " 72  TEST_SENSI  741003 non-null   float64\n",
      " 73  ANT_RETRO   567462 non-null   float64\n",
      " 74  BAC_APOS_6  604147 non-null   float64\n",
      " 75  TRANSF      477147 non-null   float64\n",
      "dtypes: float64(61), int64(5), object(10)\n",
      "memory usage: 602.7+ MB\n",
      "None\n"
     ]
    }
   ],
   "source": [
    "print(df.info())"
   ]
  },
  {
   "cell_type": "code",
   "execution_count": 12,
   "metadata": {
    "colab": {
     "base_uri": "https://localhost:8080/",
     "height": 458
    },
    "executionInfo": {
     "elapsed": 222,
     "status": "ok",
     "timestamp": 1733863182681,
     "user": {
      "displayName": "Marcela Quaresma",
      "userId": "03043466333898482850"
     },
     "user_tz": 180
    },
    "id": "CkvZOiz8qbwV",
    "outputId": "5cbc1834-20c8-4314-d9d5-104607b836fb"
   },
   "outputs": [
    {
     "data": {
      "text/html": [
       "<div>\n",
       "<style scoped>\n",
       "    .dataframe tbody tr th:only-of-type {\n",
       "        vertical-align: middle;\n",
       "    }\n",
       "\n",
       "    .dataframe tbody tr th {\n",
       "        vertical-align: top;\n",
       "    }\n",
       "\n",
       "    .dataframe thead th {\n",
       "        text-align: right;\n",
       "    }\n",
       "</style>\n",
       "<table border=\"1\" class=\"dataframe\">\n",
       "  <thead>\n",
       "    <tr style=\"text-align: right;\">\n",
       "      <th></th>\n",
       "      <th>NU_IDADE_N</th>\n",
       "    </tr>\n",
       "  </thead>\n",
       "  <tbody>\n",
       "    <tr>\n",
       "      <th>0</th>\n",
       "      <td>4058.0</td>\n",
       "    </tr>\n",
       "    <tr>\n",
       "      <th>1</th>\n",
       "      <td>4025.0</td>\n",
       "    </tr>\n",
       "    <tr>\n",
       "      <th>2</th>\n",
       "      <td>4076.0</td>\n",
       "    </tr>\n",
       "    <tr>\n",
       "      <th>3</th>\n",
       "      <td>4067.0</td>\n",
       "    </tr>\n",
       "    <tr>\n",
       "      <th>4</th>\n",
       "      <td>4035.0</td>\n",
       "    </tr>\n",
       "    <tr>\n",
       "      <th>...</th>\n",
       "      <td>...</td>\n",
       "    </tr>\n",
       "    <tr>\n",
       "      <th>1030645</th>\n",
       "      <td>4069.0</td>\n",
       "    </tr>\n",
       "    <tr>\n",
       "      <th>1030646</th>\n",
       "      <td>4023.0</td>\n",
       "    </tr>\n",
       "    <tr>\n",
       "      <th>1030647</th>\n",
       "      <td>4042.0</td>\n",
       "    </tr>\n",
       "    <tr>\n",
       "      <th>1030648</th>\n",
       "      <td>4089.0</td>\n",
       "    </tr>\n",
       "    <tr>\n",
       "      <th>1030649</th>\n",
       "      <td>4054.0</td>\n",
       "    </tr>\n",
       "  </tbody>\n",
       "</table>\n",
       "<p>1025965 rows × 1 columns</p>\n",
       "</div><br><label><b>dtype:</b> float64</label>"
      ],
      "text/plain": [
       "0          4058.0\n",
       "1          4025.0\n",
       "2          4076.0\n",
       "3          4067.0\n",
       "4          4035.0\n",
       "            ...  \n",
       "1030645    4069.0\n",
       "1030646    4023.0\n",
       "1030647    4042.0\n",
       "1030648    4089.0\n",
       "1030649    4054.0\n",
       "Name: NU_IDADE_N, Length: 1025965, dtype: float64"
      ]
     },
     "execution_count": 12,
     "metadata": {},
     "output_type": "execute_result"
    }
   ],
   "source": [
    "df.NU_IDADE_N\n"
   ]
  },
  {
   "cell_type": "code",
   "execution_count": 13,
   "metadata": {
    "colab": {
     "base_uri": "https://localhost:8080/",
     "height": 429
    },
    "executionInfo": {
     "elapsed": 219,
     "status": "ok",
     "timestamp": 1733863186631,
     "user": {
      "displayName": "Marcela Quaresma",
      "userId": "03043466333898482850"
     },
     "user_tz": 180
    },
    "id": "nqoJywPqFjfx",
    "outputId": "cc72d4c7-7153-4ceb-9286-c88447707257"
   },
   "outputs": [
    {
     "data": {
      "text/html": [
       "<div>\n",
       "<style scoped>\n",
       "    .dataframe tbody tr th:only-of-type {\n",
       "        vertical-align: middle;\n",
       "    }\n",
       "\n",
       "    .dataframe tbody tr th {\n",
       "        vertical-align: top;\n",
       "    }\n",
       "\n",
       "    .dataframe thead th {\n",
       "        text-align: right;\n",
       "    }\n",
       "</style>\n",
       "<table border=\"1\" class=\"dataframe\">\n",
       "  <thead>\n",
       "    <tr style=\"text-align: right;\">\n",
       "      <th></th>\n",
       "      <th>count</th>\n",
       "    </tr>\n",
       "    <tr>\n",
       "      <th>TEST_SENSI</th>\n",
       "      <th></th>\n",
       "    </tr>\n",
       "  </thead>\n",
       "  <tbody>\n",
       "    <tr>\n",
       "      <th>7.0</th>\n",
       "      <td>334130</td>\n",
       "    </tr>\n",
       "    <tr>\n",
       "      <th>0.0</th>\n",
       "      <td>259004</td>\n",
       "    </tr>\n",
       "    <tr>\n",
       "      <th>5.0</th>\n",
       "      <td>113195</td>\n",
       "    </tr>\n",
       "    <tr>\n",
       "      <th>6.0</th>\n",
       "      <td>21512</td>\n",
       "    </tr>\n",
       "    <tr>\n",
       "      <th>1.0</th>\n",
       "      <td>4066</td>\n",
       "    </tr>\n",
       "    <tr>\n",
       "      <th>4.0</th>\n",
       "      <td>3022</td>\n",
       "    </tr>\n",
       "    <tr>\n",
       "      <th>3.0</th>\n",
       "      <td>2439</td>\n",
       "    </tr>\n",
       "    <tr>\n",
       "      <th>2.0</th>\n",
       "      <td>1909</td>\n",
       "    </tr>\n",
       "    <tr>\n",
       "      <th>9.0</th>\n",
       "      <td>1720</td>\n",
       "    </tr>\n",
       "    <tr>\n",
       "      <th>8.0</th>\n",
       "      <td>6</td>\n",
       "    </tr>\n",
       "  </tbody>\n",
       "</table>\n",
       "</div><br><label><b>dtype:</b> int64</label>"
      ],
      "text/plain": [
       "TEST_SENSI\n",
       "7.0    334130\n",
       "0.0    259004\n",
       "5.0    113195\n",
       "6.0     21512\n",
       "1.0      4066\n",
       "4.0      3022\n",
       "3.0      2439\n",
       "2.0      1909\n",
       "9.0      1720\n",
       "8.0         6\n",
       "Name: count, dtype: int64"
      ]
     },
     "execution_count": 13,
     "metadata": {},
     "output_type": "execute_result"
    }
   ],
   "source": [
    "df.TEST_SENSI.value_counts()"
   ]
  },
  {
   "cell_type": "code",
   "execution_count": 14,
   "metadata": {
    "colab": {
     "base_uri": "https://localhost:8080/",
     "height": 241
    },
    "executionInfo": {
     "elapsed": 205,
     "status": "ok",
     "timestamp": 1733863189102,
     "user": {
      "displayName": "Marcela Quaresma",
      "userId": "03043466333898482850"
     },
     "user_tz": 180
    },
    "id": "8nDw3NZuD8Fh",
    "outputId": "e31867d4-c8ff-41a3-c4d5-aa32b922e82d"
   },
   "outputs": [
    {
     "data": {
      "text/html": [
       "<div>\n",
       "<style scoped>\n",
       "    .dataframe tbody tr th:only-of-type {\n",
       "        vertical-align: middle;\n",
       "    }\n",
       "\n",
       "    .dataframe tbody tr th {\n",
       "        vertical-align: top;\n",
       "    }\n",
       "\n",
       "    .dataframe thead th {\n",
       "        text-align: right;\n",
       "    }\n",
       "</style>\n",
       "<table border=\"1\" class=\"dataframe\">\n",
       "  <thead>\n",
       "    <tr style=\"text-align: right;\">\n",
       "      <th></th>\n",
       "      <th>count</th>\n",
       "    </tr>\n",
       "    <tr>\n",
       "      <th>RIFAMPICIN</th>\n",
       "      <th></th>\n",
       "    </tr>\n",
       "  </thead>\n",
       "  <tbody>\n",
       "    <tr>\n",
       "      <th>0.0</th>\n",
       "      <td>319305</td>\n",
       "    </tr>\n",
       "    <tr>\n",
       "      <th>1.0</th>\n",
       "      <td>111591</td>\n",
       "    </tr>\n",
       "    <tr>\n",
       "      <th>2.0</th>\n",
       "      <td>2239</td>\n",
       "    </tr>\n",
       "    <tr>\n",
       "      <th>9.0</th>\n",
       "      <td>210</td>\n",
       "    </tr>\n",
       "  </tbody>\n",
       "</table>\n",
       "</div><br><label><b>dtype:</b> int64</label>"
      ],
      "text/plain": [
       "RIFAMPICIN\n",
       "0.0    319305\n",
       "1.0    111591\n",
       "2.0      2239\n",
       "9.0       210\n",
       "Name: count, dtype: int64"
      ]
     },
     "execution_count": 14,
     "metadata": {},
     "output_type": "execute_result"
    }
   ],
   "source": [
    "df.RIFAMPICIN.value_counts()"
   ]
  },
  {
   "cell_type": "code",
   "execution_count": 15,
   "metadata": {
    "colab": {
     "base_uri": "https://localhost:8080/"
    },
    "executionInfo": {
     "elapsed": 2741,
     "status": "ok",
     "timestamp": 1733863196136,
     "user": {
      "displayName": "Marcela Quaresma",
      "userId": "03043466333898482850"
     },
     "user_tz": 180
    },
    "id": "cN6FSChcB3Ia",
    "outputId": "b47ffbd4-2fea-46c5-cb95-96a18879bcc9"
   },
   "outputs": [
    {
     "name": "stdout",
     "output_type": "stream",
     "text": [
      "Estatísticas descritivas da idade em anos:\n",
      "count    1.025825e+06\n",
      "mean     4.002716e+01\n",
      "std      1.717211e+01\n",
      "min      0.000000e+00\n",
      "25%      2.700000e+01\n",
      "50%      3.800000e+01\n",
      "75%      5.200000e+01\n",
      "max      1.190000e+02\n",
      "Name: IDADE_ANOS, dtype: float64\n",
      "\n",
      "Primeiras linhas com a conversão:\n",
      "   NU_IDADE_N  IDADE_ANOS\n",
      "0      4058.0        58.0\n",
      "1      4025.0        25.0\n",
      "2      4076.0        76.0\n",
      "3      4067.0        67.0\n",
      "4      4035.0        35.0\n"
     ]
    }
   ],
   "source": [
    "# Função para converter o campo composto de NU_IDADE_N para idade em anos\n",
    "def converter_idade(idade):\n",
    "    if pd.isna(idade):\n",
    "        return None\n",
    "    idade = str(int(idade)).zfill(3)  # Garantir que a idade tenha 3 dígitos\n",
    "    unidade = int(idade[0])  # Primeiro dígito representa a unidade\n",
    "    quantidade = int(idade[1:])  # Últimos dois dígitos representam a quantidade\n",
    "\n",
    "    # Conversão de acordo com a unidade\n",
    "    if unidade == 0:  # Menor que 1 hora\n",
    "        return 0\n",
    "    elif unidade == 1:  # Horas\n",
    "        return 0  # Consideramos como menos de 1 dia = 0 anos\n",
    "    elif unidade == 2:  # Dias\n",
    "        return round(quantidade / 365, 2)  # Converter dias para anos\n",
    "    elif unidade == 3:  # Meses\n",
    "        return round(quantidade / 12, 2)  # Converter meses para anos\n",
    "    elif unidade == 4:  # Anos (até 99)\n",
    "        return quantidade\n",
    "    elif unidade == 5:  # Anos (mais de 100 anos)\n",
    "        return 100 + quantidade\n",
    "    else:\n",
    "        return None  # Caso unidade desconhecida\n",
    "\n",
    "# Aplicar a função na coluna NU_IDADE_N\n",
    "df['IDADE_ANOS'] = df['NU_IDADE_N'].apply(converter_idade)\n",
    "\n",
    "# Verificar os resultados\n",
    "print(\"Estatísticas descritivas da idade em anos:\")\n",
    "print(df['IDADE_ANOS'].describe())\n",
    "\n",
    "# Opcional: verificar as primeiras linhas para garantir que a conversão foi feita corretamente\n",
    "print(\"\\nPrimeiras linhas com a conversão:\")\n",
    "print(df[['NU_IDADE_N', 'IDADE_ANOS']].head())\n"
   ]
  },
  {
   "cell_type": "code",
   "execution_count": 16,
   "metadata": {
    "colab": {
     "base_uri": "https://localhost:8080/"
    },
    "executionInfo": {
     "elapsed": 3436,
     "status": "ok",
     "timestamp": 1733863210013,
     "user": {
      "displayName": "Marcela Quaresma",
      "userId": "03043466333898482850"
     },
     "user_tz": 180
    },
    "id": "KwFUmJKvLnfm",
    "outputId": "08aee2e4-797d-41f9-b8cb-f56ede795622"
   },
   "outputs": [
    {
     "name": "stdout",
     "output_type": "stream",
     "text": [
      "Valores ausentes após a substituição:\n",
      "NU_ANO        0\n",
      "SG_UF_NOT     0\n",
      "ID_MUNICIP    0\n",
      "ID_REGIONA    0\n",
      "DT_DIAG       0\n",
      "             ..\n",
      "TEST_SENSI    0\n",
      "ANT_RETRO     0\n",
      "BAC_APOS_6    0\n",
      "TRANSF        0\n",
      "IDADE_ANOS    0\n",
      "Length: 77, dtype: int64\n"
     ]
    }
   ],
   "source": [
    "import pandas as pd\n",
    "\n",
    "def substituir_na_por_ignorado(df):\n",
    "    \"\"\"\n",
    "    Substitui valores ausentes (NA) por 9 em todas as colunas do DataFrame.\n",
    "    Apenas aplica a substituição em colunas que possuem valores ausentes.\n",
    "\n",
    "    Parâmetros:\n",
    "    df (pd.DataFrame): DataFrame a ser processado.\n",
    "\n",
    "    Retorna:\n",
    "    pd.DataFrame: DataFrame com os valores ausentes substituídos por 9.\n",
    "    \"\"\"\n",
    "    # Iterar sobre as colunas com valores ausentes\n",
    "    colunas_com_na = df.columns[df.isna().any()]\n",
    "\n",
    "    # Substituir NA por 9 em cada coluna identificada\n",
    "    for coluna in colunas_com_na:\n",
    "        if df[coluna].dtype in ['float64', 'int64']:  # Colunas numéricas\n",
    "            df[coluna] = df[coluna].fillna(9)\n",
    "        elif df[coluna].dtype == 'object':  # Colunas de texto\n",
    "            df[coluna] = df[coluna].fillna('9')  # Texto como '9'\n",
    "\n",
    "    return df\n",
    "\n",
    "# Aplicar a função ao DataFrame\n",
    "df = substituir_na_por_ignorado(df)\n",
    "\n",
    "# Verificar o resultado\n",
    "print(\"Valores ausentes após a substituição:\")\n",
    "print(df.isna().sum())\n"
   ]
  },
  {
   "cell_type": "markdown",
   "metadata": {
    "id": "wrUg4uAT9itL"
   },
   "source": [
    "DESFECHOS"
   ]
  },
  {
   "cell_type": "code",
   "execution_count": 18,
   "metadata": {
    "colab": {
     "base_uri": "https://localhost:8080/"
    },
    "executionInfo": {
     "elapsed": 66275,
     "status": "ok",
     "timestamp": 1733863311836,
     "user": {
      "displayName": "Marcela Quaresma",
      "userId": "03043466333898482850"
     },
     "user_tz": 180
    },
    "id": "eNzoKkpBrhhe",
    "outputId": "940c6a97-a888-42c8-da11-a6dabec043dd"
   },
   "outputs": [
    {
     "name": "stdout",
     "output_type": "stream",
     "text": [
      "Frequência de valores na nova variável 'ABANDONO':\n",
      "ABANDONO\n",
      "0    878468\n",
      "1    147497\n",
      "Name: count, dtype: int64\n",
      "Arquivo ajustado salvo com sucesso em: /content/drive/My Drive/Dados TB 13-23/dados_tuberculose_2013_2023_limpo.csv\n"
     ]
    }
   ],
   "source": [
    "# Criar a nova variável 'ABANDONO'\n",
    "def definir_abandono(desfecho):\n",
    "    \"\"\"\n",
    "    Define se o caso é abandono com base nos códigos da variável SITUA_ENCE.\n",
    "\n",
    "    Parâmetros:\n",
    "    desfecho: Valor original do desfecho (pode ser float, int ou NaN).\n",
    "\n",
    "    Retorna:\n",
    "    int: 1 se abandono (códigos 2 ou 10), 0 caso contrário.\n",
    "    \"\"\"\n",
    "    if pd.isna(desfecho):\n",
    "        return 0  # Considerar NA como \"não abandono\"\n",
    "    if isinstance(desfecho, (int, float)):  # Se for número\n",
    "        if int(desfecho) in [2, 10]:  # Verificar se é abandono ou abandono primário\n",
    "            return 1\n",
    "    return 0  # Demais casos não são abandono\n",
    "\n",
    "# Aplicar a função e criar a nova variável\n",
    "df['ABANDONO'] = df['SITUA_ENCE'].apply(definir_abandono)\n",
    "\n",
    "# Verificar os resultados\n",
    "print(\"Frequência de valores na nova variável 'ABANDONO':\")\n",
    "print(df['ABANDONO'].value_counts())"
   ]
  },
  {
   "cell_type": "code",
   "execution_count": 19,
   "metadata": {
    "colab": {
     "base_uri": "https://localhost:8080/"
    },
    "executionInfo": {
     "elapsed": 68691,
     "status": "ok",
     "timestamp": 1733862369438,
     "user": {
      "displayName": "Marcela Quaresma",
      "userId": "03043466333898482850"
     },
     "user_tz": 180
    },
    "id": "A_9JpFohPfBx",
    "outputId": "2b7eabdf-c1f7-4949-f748-c73104ec5563"
   },
   "outputs": [
    {
     "name": "stdout",
     "output_type": "stream",
     "text": [
      "Arquivo salvo com sucesso em: /content/drive/My Drive/Dados TB 13-23/dados_tuberculose_2013_2023_limpo.csv\n"
     ]
    }
   ],
   "source": [
    "# Salvar o DataFrame limpo em um arquivo CSV\n",
    "output_file = '/content/drive/My Drive/Dados TB 13-23/dados_tuberculose_2013_2023_limpo.csv'\n",
    "\n",
    "# Salva o DataFrame no formato CSV, sem o índice para facilitar a leitura\n",
    "df.to_csv(output_file, index=False, encoding='utf-8')\n",
    "\n",
    "print(f\"Arquivo salvo com sucesso em: {output_file}\")\n"
   ]
  },
  {
   "cell_type": "code",
   "execution_count": null,
   "metadata": {
    "id": "gNAPxqkSUnLS"
   },
   "outputs": [],
   "source": []
  },
  {
   "cell_type": "markdown",
   "metadata": {
    "id": "zs63bZVzrgLA"
   },
   "source": []
  }
 ],
 "metadata": {
  "colab": {
   "authorship_tag": "ABX9TyMeZ25fu0lRH0vb3dqFkKhq",
   "provenance": []
  },
  "kernelspec": {
   "display_name": "Python 3",
   "name": "python3"
  },
  "language_info": {
   "name": "python"
  }
 },
 "nbformat": 4,
 "nbformat_minor": 0
}
