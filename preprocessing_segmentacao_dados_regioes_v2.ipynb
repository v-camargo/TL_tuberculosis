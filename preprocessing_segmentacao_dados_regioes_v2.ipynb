{
 "cells": [
  {
   "cell_type": "code",
   "execution_count": 216,
   "metadata": {
    "id": "AzN0v5QZVf42"
   },
   "outputs": [],
   "source": [
    "import pandas as pd\n",
    "from sklearn.model_selection import train_test_split\n",
    "import os\n",
    "from category_encoders.one_hot import OneHotEncoder"
   ]
  },
  {
   "cell_type": "markdown",
   "metadata": {},
   "source": [
    "## Setup e Importação"
   ]
  },
  {
   "cell_type": "code",
   "execution_count": 3,
   "metadata": {
    "executionInfo": {
     "elapsed": 24216,
     "status": "ok",
     "timestamp": 1740080633968,
     "user": {
      "displayName": "Marcela Quaresma",
      "userId": "03043466333898482850"
     },
     "user_tz": 180
    },
    "id": "p-RPvxjJyydR"
   },
   "outputs": [],
   "source": [
    "# Caminho do arquivo CSV no Google Drive\n",
    "csv_file = os.getcwd() +\"\\\\dados\\\\dados_tuberculose_2013_2023_limpo.csv\"\n",
    "xlsx_file = os.getcwd() +\"\\\\dados\\\\pop_residente_municipios.xlsx\"\n",
    "\n",
    "df_raw = pd.read_csv(csv_file, encoding='latin1', low_memory=False)\n",
    "df_munic = pd.read_excel(xlsx_file)"
   ]
  },
  {
   "cell_type": "code",
   "execution_count": 4,
   "metadata": {},
   "outputs": [],
   "source": [
    "dummy_var = ('CS_SEXO')"
   ]
  },
  {
   "cell_type": "markdown",
   "metadata": {},
   "source": [
    "## Juntando as Tabelas"
   ]
  },
  {
   "cell_type": "code",
   "execution_count": 5,
   "metadata": {},
   "outputs": [],
   "source": [
    "df_munic_tidy = df_munic.melt(id_vars=['MUNICIPIO', 'ID_MUNIC', 'NOME_MUNIC'], var_name='ANO', value_name='POP_RESIDENTE_MUNIC')"
   ]
  },
  {
   "cell_type": "code",
   "execution_count": 6,
   "metadata": {},
   "outputs": [],
   "source": [
    "df_merge = df_raw.merge(df_munic_tidy, left_on=['ID_MUNIC_A','NU_ANO'], right_on=['ID_MUNIC', 'ANO'], how='left')"
   ]
  },
  {
   "cell_type": "code",
   "execution_count": 7,
   "metadata": {},
   "outputs": [
    {
     "data": {
      "text/plain": [
       "0"
      ]
     },
     "execution_count": 7,
     "metadata": {},
     "output_type": "execute_result"
    }
   ],
   "source": [
    "#Check da quantidade de linhas após merge\n",
    "df_raw.shape[0] - df_merge.shape[0]"
   ]
  },
  {
   "cell_type": "markdown",
   "metadata": {},
   "source": [
    "## Seleção de Variáveis e Tratamento\n"
   ]
  },
  {
   "cell_type": "code",
   "execution_count": null,
   "metadata": {},
   "outputs": [],
   "source": [
    "# Criar lista das variáveis selecionadas\n",
    "variaveis_independentes = [ 'IDADE_ANOS', 'CS_SEXO', 'CS_GESTANT', 'CS_RACA', 'CS_ESCOL_N', 'TRATAMENTO',\n",
    "    'RAIOX_TORA', 'TESTE_TUBE', 'FORMA', 'AGRAVAIDS', 'AGRAVALCOO', 'AGRAVDIABE',\n",
    "    'AGRAVDOENC', 'AGRAVOUTRA', 'AGRAVDROGA', 'AGRAVTABAC', 'BACILOSC_E', 'CULTURA_ES', 'CULTURA_OU', 'HIV', 'HISTOPATOL',\n",
    "    'RIFAMPICIN', 'ISONIAZIDA', 'ETAMBUTOL', 'ESTREPTOMI', 'PIRAZINAMI',\n",
    "    'ETIONAMIDA','NU_COMU_EX', 'DOENCA_TRA', 'TRATSUP_AT',  \n",
    "    'TPUNINOT', 'POP_LIBER', 'POP_RUA', 'POP_SAUDE', 'POP_IMIG',\n",
    "    'BENEF_GOV', 'TEST_MOLEC', 'TEST_SENSI', 'ANT_RETRO', 'TRANSF']\n",
    "\n",
    "variaveis_local = ['SG_UF_AT','SG_UF_2','ID_MUNIC_A']\n",
    "variaveis_acompanhamento = ['BACILOSC_1', 'BACILOSC_2', 'BACILOSC_3', 'BACILOSC_4', 'BACILOSC_5', 'BACILOSC_6', 'BAC_APOS_6', 'BACILOS_E2', 'BACILOSC_O', 'SITUA_9_M','SITUA_12_M']\n",
    "#Estas são variáveis que buscamos em bases externas, representantes das características dos municípios\n",
    "variaveis_exogenas = ['POP_RESIDENTE_MUNIC']\n",
    "\n",
    "# Novo DataFrame com as variáveis independentes e alvo\n",
    "df_modelagem = df_merge[['ABANDONO'] + variaveis_independentes +['ID_MUNIC_A']+['SG_UF']+variaveis_exogenas + ['NU_ANO']].copy()"
   ]
  },
  {
   "cell_type": "code",
   "execution_count": 44,
   "metadata": {},
   "outputs": [
    {
     "data": {
      "text/plain": [
       "Index(['ABANDONO', 'AGRAVAIDS', 'AGRAVALCOO', 'AGRAVDIABE', 'AGRAVDOENC',\n",
       "       'AGRAVDROGA', 'AGRAVOUTRA', 'AGRAVTABAC', 'ANT_RETRO', 'BACILOSC_E',\n",
       "       'BENEF_GOV', 'CS_ESCOL_N', 'CS_GESTANT', 'CS_RACA', 'CS_SEXO',\n",
       "       'CULTURA_ES', 'CULTURA_OU', 'DOENCA_TRA', 'ESTREPTOMI', 'ETAMBUTOL',\n",
       "       'ETIONAMIDA', 'FORMA', 'HISTOPATOL', 'HIV', 'IDADE_ANOS', 'ID_MUNIC_A',\n",
       "       'ID_OCUPA_N', 'ISONIAZIDA', 'NU_ANO', 'NU_COMU_EX', 'PIRAZINAMI',\n",
       "       'POP_IMIG', 'POP_LIBER', 'POP_RESIDENTE_MUNIC', 'POP_RUA', 'POP_SAUDE',\n",
       "       'RAIOX_TORA', 'RIFAMPICIN', 'SG_UF', 'TESTE_TUBE', 'TEST_MOLEC',\n",
       "       'TEST_SENSI', 'TPUNINOT', 'TRANSF', 'TRATAMENTO', 'TRATSUP_AT'],\n",
       "      dtype='object')"
      ]
     },
     "execution_count": 44,
     "metadata": {},
     "output_type": "execute_result"
    }
   ],
   "source": [
    "df_modelagem.columns.sort_values()"
   ]
  },
  {
   "cell_type": "markdown",
   "metadata": {},
   "source": [
    "v4: 'ID_OCUPA_N', 'TESTE_TUBE', 'CULTURA_OU', 'ETIONAMIDA', 'NU_CONTATO','NU_COMU_EX', 'DOENCA_TRA'\n",
    "\n",
    "<P> \n",
    "Comentários: \n",
    "<p>\n",
    "\n",
    "- Retiro campo HIV, senod que já tenho AGRAVAIDS?   \n",
    "- Variavel ETIONAMIDA está correta? No dicionario está mal definida  \n",
    "- Variável OUTRAS pode ser retirada? Qual a proporção de nao informados dela? Não estou utilizando a OUTRAS_DES \n",
    "    - OUTRAS foi retirado\n",
    "- Variáveis 'NU_CONTATO','NU_COMU_EX' não seguem regra de negócio. Há registros de maior NU_COMU_EX (numero de contatos examinados) do que NU_CONTATO (numero de contatos existentes). QUal confiar? Alem disso, NU_COMU_EX tem bastante 9. Será que o 9 foi automático?\n",
    "    - NU_CONTATO foi retirado\n",
    "- ANT_RETRO não está descrita no dicionário e, se for ANTIRRETROVIRAL, existem mais números do que 0,1,2,9. Vale a pena deixar essa variável?"
   ]
  },
  {
   "cell_type": "code",
   "execution_count": 20,
   "metadata": {},
   "outputs": [
    {
     "data": {
      "text/plain": [
       "NU_COMU_EX\n",
       "0.0    437952\n",
       "1.0    112642\n",
       "2.0    108887\n",
       "9.0    105757\n",
       "3.0     87714\n",
       "4.0     58082\n",
       "5.0     36631\n",
       "6.0     21847\n",
       "7.0     12790\n",
       "8.0      9979\n",
       "Name: count, dtype: int64"
      ]
     },
     "execution_count": 20,
     "metadata": {},
     "output_type": "execute_result"
    }
   ],
   "source": [
    "#Linhas rascunho na exploração\n",
    "\n",
    "df_raw[['NU_CONTATO','NU_COMU_EX']][df_raw['NU_CONTATO'] - df_raw['NU_COMU_EX'] < 0]\n",
    "df_raw['ANT_RETRO'].value_counts()/df_raw.shape[0]\n",
    "df_raw['NU_COMU_EX'].value_counts().sort_values(ascending=False).head(10)"
   ]
  },
  {
   "cell_type": "code",
   "execution_count": 45,
   "metadata": {},
   "outputs": [
    {
     "data": {
      "text/plain": [
       "array([   0,    0,    0,    0,    0,    0,    0,    0,    0,    0,    0,\n",
       "          0,    0,    0,    0,    0,    0,    0,    0,    0,    0,    0,\n",
       "          0,    0,    0,    0,    0,    0,    0,    0,    0,    0,    0,\n",
       "          0,    0,    0,    0,    0,    0,    0,    0,    0,    0,    0,\n",
       "       2195,    0], dtype=int64)"
      ]
     },
     "execution_count": 45,
     "metadata": {},
     "output_type": "execute_result"
    }
   ],
   "source": [
    "df_modelagem.isna().sum().values"
   ]
  },
  {
   "cell_type": "code",
   "execution_count": 48,
   "metadata": {},
   "outputs": [
    {
     "name": "stdout",
     "output_type": "stream",
     "text": [
      "CS_SEXO: ['M' 'F']\n",
      "ETIONAMIDA: ['2' '0' '1' '9']\n"
     ]
    }
   ],
   "source": [
    "print('CS_SEXO:',df_modelagem['CS_SEXO'].unique())\n",
    "print('ETIONAMIDA:',df_modelagem['ETIONAMIDA'].unique())\n",
    "\n",
    "#Checar o significado dessas classificações"
   ]
  },
  {
   "cell_type": "code",
   "execution_count": 47,
   "metadata": {},
   "outputs": [],
   "source": [
    "#Retirando linhas de categorias com poucas observações\n",
    "#Possiveis erros ou má interpretações\n",
    "\n",
    "df_modelagem = df_modelagem[df_modelagem['CS_SEXO'] != 'I']\n",
    "df_modelagem = df_modelagem[df_modelagem['ETIONAMIDA'] != '/']\n"
   ]
  },
  {
   "cell_type": "code",
   "execution_count": 49,
   "metadata": {},
   "outputs": [],
   "source": [
    "#Tratamento Dummies\n",
    "gender_mapping = {\"F\":1, \"M\":0}\n",
    "df_modelagem[dummy_var] = df_modelagem[dummy_var].map(gender_mapping) "
   ]
  },
  {
   "cell_type": "code",
   "execution_count": 50,
   "metadata": {},
   "outputs": [],
   "source": [
    "#Convertendo para numerico\n",
    "convert_to_num = ['ETIONAMIDA', 'POP_RESIDENTE_MUNIC']\n",
    "\n",
    "for col in convert_to_num:\n",
    "    df_modelagem[col] = pd.to_numeric(df_modelagem[col])"
   ]
  },
  {
   "cell_type": "markdown",
   "metadata": {},
   "source": [
    "## Feature Engineering"
   ]
  },
  {
   "cell_type": "markdown",
   "metadata": {},
   "source": [
    "### ID Município e Informações Externas"
   ]
  },
  {
   "cell_type": "markdown",
   "metadata": {},
   "source": [
    "IBGE classifica os municípios baseado na quantidade de habitantes e localização: https://www.ibge.gov.br/apps/rural_urbano/#/home  \n",
    "Comecei com uma classificação simples baseada no IBGE, mas considerar os conglomerados urbanos pode fazer mais sentido.  \n",
    "_Ideia: clusterizar as cidades. Complicação: clusterizar baseado em que? Como evitar vazamento de dados?_\n",
    "\n",
    "Classificação atualmente adotada (mais simples):\n",
    "\n",
    "- Pequeno Porte I: Até 20.000 habitantes\n",
    "- Pequeno Porte II: De 20.001 a 50.000 habitantes\n",
    "- Médio Porte: De 50.001 a 100.000 habitantes\n",
    "- Grande Porte: De 100.001 a 900.000 habitantes\n",
    "- Metrópole: Acima de 900.000 habitantes "
   ]
  },
  {
   "cell_type": "code",
   "execution_count": 51,
   "metadata": {},
   "outputs": [],
   "source": [
    "# Definindo as faixas e os rótulos baseados na classificação do IBGE\n",
    "faixas = [0, 20000, 50000, 100000, 900000, float('inf')]\n",
    "rotulos = ['Pequeno I', 'Pequeno II', 'Médio', 'Grande', 'Metrópole']\n",
    "\n",
    "df_modelagem['porte_municipio'] = pd.cut(df_modelagem['POP_RESIDENTE_MUNIC'], bins=faixas, labels=rotulos, right=False)"
   ]
  },
  {
   "cell_type": "code",
   "execution_count": 52,
   "metadata": {},
   "outputs": [
    {
     "data": {
      "text/plain": [
       "porte_municipio\n",
       "Metrópole     399255\n",
       "Grande        373777\n",
       "Pequeno II     97796\n",
       "Médio          84925\n",
       "Pequeno I      67922\n",
       "Name: count, dtype: int64"
      ]
     },
     "execution_count": 52,
     "metadata": {},
     "output_type": "execute_result"
    }
   ],
   "source": [
    "# Distribuição dos indivíduos em cada grupo de município\n",
    "df_modelagem['porte_municipio'].value_counts()"
   ]
  },
  {
   "cell_type": "markdown",
   "metadata": {},
   "source": [
    "#### Variáveis criadas a partir do feature engineering"
   ]
  },
  {
   "cell_type": "code",
   "execution_count": 127,
   "metadata": {},
   "outputs": [],
   "source": [
    "variaveis_feature_engineering = ['porte_municipio']"
   ]
  },
  {
   "cell_type": "markdown",
   "metadata": {},
   "source": [
    "## Exploração "
   ]
  },
  {
   "cell_type": "code",
   "execution_count": 20,
   "metadata": {},
   "outputs": [
    {
     "data": {
      "text/plain": [
       "IDADE_ANOS\n",
       "0.00      2081\n",
       "0.01       109\n",
       "0.02        78\n",
       "0.03        39\n",
       "0.04        62\n",
       "          ... \n",
       "115.00       3\n",
       "116.00       3\n",
       "117.00       1\n",
       "118.00       1\n",
       "119.00       1\n",
       "Name: count, Length: 166, dtype: int64"
      ]
     },
     "execution_count": 20,
     "metadata": {},
     "output_type": "execute_result"
    }
   ],
   "source": [
    "df_modelagem['IDADE_ANOS'].value_counts().sort_index()"
   ]
  },
  {
   "cell_type": "code",
   "execution_count": 22,
   "metadata": {},
   "outputs": [
    {
     "data": {
      "text/plain": [
       "ID_OCUPA_N\n",
       "9.0     775824\n",
       "0.0     176469\n",
       "99.0     37229\n",
       "71.0      7778\n",
       "51.0      6916\n",
       "62.0      4268\n",
       "52.0      2315\n",
       "78.0      1989\n",
       "41.0      1229\n",
       "72.0      1198\n",
       "35.0      1025\n",
       "14.0       984\n",
       "76.0       723\n",
       "42.0       713\n",
       "32.0       667\n",
       "63.0       640\n",
       "23.0       586\n",
       "91.0       586\n",
       "25.0       582\n",
       "61.0       570\n",
       "84.0       515\n",
       "22.0       497\n",
       "77.0       426\n",
       "31.0       360\n",
       "26.0       342\n",
       "21.0       180\n",
       "24.0       149\n",
       "33.0       132\n",
       "75.0       127\n",
       "86.0       119\n",
       "2.0        101\n",
       "37.0        96\n",
       "82.0        80\n",
       "73.0        58\n",
       "11.0        55\n",
       "64.0        52\n",
       "34.0        51\n",
       "95.0        51\n",
       "81.0        40\n",
       "39.0        28\n",
       "3.0         23\n",
       "30.0        23\n",
       "12.0        22\n",
       "1.0         18\n",
       "74.0        13\n",
       "20.0         8\n",
       "83.0         8\n",
       "13.0         5\n",
       "Name: count, dtype: int64"
      ]
     },
     "execution_count": 22,
     "metadata": {},
     "output_type": "execute_result"
    }
   ],
   "source": [
    "df_modelagem['ID_OCUPA_N'].value_counts()"
   ]
  },
  {
   "cell_type": "markdown",
   "metadata": {},
   "source": [
    "## Filtro dos Anos"
   ]
  },
  {
   "cell_type": "markdown",
   "metadata": {},
   "source": [
    "A ficha de notificação deo SINAN mudou para a v5 no período, incluindo e retirando variáveis.  \n",
    "Analisando os shifts da base [_inserir os gráficos do outro notebook aqui_], percebemos anomalias ao passar do tempo  \n",
    "A fim de desenvolver um modelo mais próximo da implementação no Sistema de Saúde, vamos filtrar para trabalhar com os valores em duas situações:\n",
    "- a partir de 2018  \n",
    "- pós período pandêmico (a partir de 2021)\n"
   ]
  },
  {
   "cell_type": "code",
   "execution_count": 242,
   "metadata": {},
   "outputs": [],
   "source": [
    "df_modelagem_2018 = df_modelagem[df_modelagem['NU_ANO'] > 2018].copy()\n",
    "df_modelagem_2021 = df_modelagem[df_modelagem['NU_ANO'] > 2021].copy()"
   ]
  },
  {
   "cell_type": "code",
   "execution_count": 154,
   "metadata": {},
   "outputs": [
    {
     "data": {
      "text/plain": [
       "TRANSF\n",
       "0.0        23\n",
       "1.0      7054\n",
       "2.0      9394\n",
       "3.0      1502\n",
       "4.0        65\n",
       "9.0    202630\n",
       "Name: count, dtype: int64"
      ]
     },
     "execution_count": 154,
     "metadata": {},
     "output_type": "execute_result"
    }
   ],
   "source": [
    "df_modelagem_2021['TRANSF'].value_counts().sort_index()"
   ]
  },
  {
   "cell_type": "code",
   "execution_count": 243,
   "metadata": {},
   "outputs": [],
   "source": [
    "#Estas variáveis foram retiradas na v5 da ficha de notificação\n",
    "#AGRAVAIDS já está contemplado na variável HIV. Esta abarca mais informações que aquela\n",
    "\n",
    "variaveis_retiradas = ['TESTE_TUBE', 'ID_OCUPA_N','CULTURA_OU', 'AGRAVAIDS','RIFAMPICIN','ISONIAZIDA', \n",
    "                        'ETAMBUTOL', 'ESTREPTOMI', 'PIRAZINAMI','ETIONAMIDA', 'DOENCA_TRA']\n",
    "\n",
    "df_modelagem_2021.drop(columns=variaveis_retiradas, inplace=True)"
   ]
  },
  {
   "cell_type": "code",
   "execution_count": 235,
   "metadata": {},
   "outputs": [],
   "source": [
    "variaveis_independentes_finais = list(df_modelagem_2021.columns[df_modelagem_2021.columns.isin(variaveis_independentes)])"
   ]
  },
  {
   "cell_type": "markdown",
   "metadata": {},
   "source": [
    "## Variáveis Finais para Modelagem (após feature engineering)"
   ]
  },
  {
   "cell_type": "code",
   "execution_count": 236,
   "metadata": {},
   "outputs": [],
   "source": [
    "variaveis_finais = variaveis_independentes_finais + variaveis_feature_engineering"
   ]
  },
  {
   "cell_type": "code",
   "execution_count": 244,
   "metadata": {},
   "outputs": [],
   "source": [
    "df_modelagem_2021 = df_modelagem_2021[variaveis_finais + ['SG_UF']+['ABANDONO']].copy()"
   ]
  },
  {
   "cell_type": "markdown",
   "metadata": {},
   "source": [
    "## Pré-processamento"
   ]
  },
  {
   "cell_type": "code",
   "execution_count": null,
   "metadata": {},
   "outputs": [
    {
     "name": "stdout",
     "output_type": "stream",
     "text": [
      "Colunas com 0 e 1: ['ABANDONO', 'CS_SEXO']\n",
      "Colunas com 1 e 2 e 9: ['AGRAVALCOO', 'AGRAVDIABE', 'AGRAVDOENC', 'AGRAVDROGA', 'AGRAVTABAC', 'POP_LIBER', 'POP_RUA']\n"
     ]
    }
   ],
   "source": [
    "print(\"Colunas com 0 e 1:\", [col for col in df_modelagem_2021.columns if set(df_modelagem_2021[col].dropna().unique()).issubset({0, 1})])\n",
    "print(\"Colunas com 1 e 2 e 9:\", [col for col in df_modelagem_2021.columns if set(df_modelagem_2021[col].dropna().unique()).issubset({1, 2, 9})])"
   ]
  },
  {
   "cell_type": "code",
   "execution_count": 213,
   "metadata": {},
   "outputs": [],
   "source": [
    "dummy_var = ['CS_SEXO']\n",
    "num_var = ['IDADE_ANOS']\n",
    "cat_var = list(df_modelagem_2021.columns[~df_modelagem_2021.columns.isin(dummy_var+num_var)])"
   ]
  },
  {
   "cell_type": "markdown",
   "metadata": {},
   "source": [
    "### One Hot Enconding"
   ]
  },
  {
   "cell_type": "code",
   "execution_count": 245,
   "metadata": {},
   "outputs": [],
   "source": [
    "ohe = OneHotEncoder(cols=cat_var, drop_invariant=True)\n",
    "df_modelagem_2021_ohe = ohe.fit_transform(df_modelagem_2021)"
   ]
  },
  {
   "cell_type": "markdown",
   "metadata": {},
   "source": [
    "## Segmentação Regiões Brasil"
   ]
  },
  {
   "cell_type": "markdown",
   "metadata": {},
   "source": [
    "| Nome UF | Código IBGE |\n",
    "| --- | --- |\n",
    "|Rondônia|11|\n",
    "|Acre|12|\n",
    "|Amazonas|13|\n",
    "|Roraima|14|\n",
    "|Pará|15|\n",
    "|Amapá|16|\n",
    "|Tocantins|17|\n",
    "|Maranhão|21|\n",
    "|Piauí|22|\n",
    "|Ceará|23|\n",
    "|Rio Grande do Norte|24|\n",
    "|Paraíba|25|\n",
    "|Pernambuco|26|\n",
    "|Alagoas|27|\n",
    "|Sergipe|28|\n",
    "|Bahia|29|\n",
    "|Minas Gerais|31|\n",
    "|Espírito Santo|32|\n",
    "|Rio de Janeiro|33|\n",
    "|São Paulo|35|\n",
    "|Paraná|41|\n",
    "|Santa Catarina|42|\n",
    "|Rio Grande do Sul|43|\n",
    "|Mato Grosso do Sul|50|\n",
    "|Mato Grosso|51|\n",
    "|Goiás|52|\n",
    "|Distrito Federal|53|"
   ]
  },
  {
   "cell_type": "markdown",
   "metadata": {},
   "source": [
    "_modelando primeiro somente com os dados pós pandemicos_"
   ]
  },
  {
   "cell_type": "code",
   "execution_count": 251,
   "metadata": {
    "colab": {
     "base_uri": "https://localhost:8080/"
    },
    "executionInfo": {
     "elapsed": 235,
     "status": "ok",
     "timestamp": 1740076693501,
     "user": {
      "displayName": "Marcela Quaresma",
      "userId": "03043466333898482850"
     },
     "user_tz": 180
    },
    "id": "wHDyI0wa5TDa",
    "outputId": "971eeaab-d7b0-4c55-d4ea-b641150eaf10"
   },
   "outputs": [
    {
     "name": "stdout",
     "output_type": "stream",
     "text": [
      "Quantidade de registros para Sudeste: 96898\n",
      "Quantidade de registros para Norte: 27881\n",
      "Quantidade de registros para Nordeste: 57995\n",
      "Quantidade de registros para Centro Oeste: 11266\n",
      "Quantidade de registros para Sul: 26628\n"
     ]
    }
   ],
   "source": [
    "sudeste = [31, 32, 33, 35]\n",
    "norte = [11,12,13,14,15,16,17]\n",
    "nordeste = [21,22,23,24,25,26,27,28,29]\n",
    "centro_oeste = [50, 51, 52, 53]\n",
    "sul = [41, 42, 43]\n",
    "\n",
    "# Filtrar para o estado de São Paulo (SG_UF == 35)\n",
    "df_sudeste = df_modelagem_2021_ohe[df_modelagem_2021_ohe['SG_UF'].isin(sudeste)].copy()\n",
    "df_norte = df_modelagem_2021_ohe[df_modelagem_2021_ohe['SG_UF'].isin(norte)].copy()\n",
    "df_nordeste = df_modelagem_2021_ohe[df_modelagem_2021_ohe['SG_UF'].isin(nordeste)].copy()\n",
    "df_centro_oeste = df_modelagem_2021_ohe[df_modelagem_2021_ohe['SG_UF'].isin(centro_oeste)].copy()\n",
    "df_sul =df_modelagem_2021_ohe[df_modelagem_2021_ohe['SG_UF'].isin(sul)].copy()\n",
    "\n",
    "# Confirmar o tamanho do novo DataFrame\n",
    "print(f\"Quantidade de registros para Sudeste: {df_sudeste.shape[0]}\")\n",
    "print(f\"Quantidade de registros para Norte: {df_norte.shape[0]}\")\n",
    "print(f\"Quantidade de registros para Nordeste: {df_nordeste.shape[0]}\")\n",
    "print(f\"Quantidade de registros para Centro Oeste: {df_centro_oeste.shape[0]}\")\n",
    "print(f\"Quantidade de registros para Sul: {df_sul.shape[0]}\")\n",
    "\n",
    "for df_for in [df_sudeste, df_norte, df_nordeste,df_centro_oeste,df_sul]:\n",
    "    df_for.drop(columns='SG_UF', inplace=True)"
   ]
  },
  {
   "cell_type": "code",
   "execution_count": 252,
   "metadata": {
    "colab": {
     "base_uri": "https://localhost:8080/",
     "height": 178
    },
    "executionInfo": {
     "elapsed": 24,
     "status": "ok",
     "timestamp": 1740076695431,
     "user": {
      "displayName": "Marcela Quaresma",
      "userId": "03043466333898482850"
     },
     "user_tz": 180
    },
    "id": "Fg4U42RY5rHc",
    "outputId": "72cab64f-09db-43f5-b504-78c38d20a5da"
   },
   "outputs": [
    {
     "data": {
      "text/html": [
       "<div>\n",
       "<style scoped>\n",
       "    .dataframe tbody tr th:only-of-type {\n",
       "        vertical-align: middle;\n",
       "    }\n",
       "\n",
       "    .dataframe tbody tr th {\n",
       "        vertical-align: top;\n",
       "    }\n",
       "\n",
       "    .dataframe thead th {\n",
       "        text-align: right;\n",
       "    }\n",
       "</style>\n",
       "<table border=\"1\" class=\"dataframe\">\n",
       "  <thead>\n",
       "    <tr style=\"text-align: right;\">\n",
       "      <th></th>\n",
       "      <th>sudeste</th>\n",
       "      <th>norte</th>\n",
       "      <th>nordeste</th>\n",
       "      <th>centro_oeste</th>\n",
       "      <th>sul</th>\n",
       "    </tr>\n",
       "    <tr>\n",
       "      <th>ABANDONO</th>\n",
       "      <th></th>\n",
       "      <th></th>\n",
       "      <th></th>\n",
       "      <th></th>\n",
       "      <th></th>\n",
       "    </tr>\n",
       "  </thead>\n",
       "  <tbody>\n",
       "    <tr>\n",
       "      <th>0</th>\n",
       "      <td>0.825301</td>\n",
       "      <td>0.833614</td>\n",
       "      <td>0.875472</td>\n",
       "      <td>0.843511</td>\n",
       "      <td>0.8188</td>\n",
       "    </tr>\n",
       "    <tr>\n",
       "      <th>1</th>\n",
       "      <td>0.174699</td>\n",
       "      <td>0.166386</td>\n",
       "      <td>0.124528</td>\n",
       "      <td>0.156489</td>\n",
       "      <td>0.1812</td>\n",
       "    </tr>\n",
       "  </tbody>\n",
       "</table>\n",
       "</div>"
      ],
      "text/plain": [
       "           sudeste     norte  nordeste  centro_oeste     sul\n",
       "ABANDONO                                                    \n",
       "0         0.825301  0.833614  0.875472      0.843511  0.8188\n",
       "1         0.174699  0.166386  0.124528      0.156489  0.1812"
      ]
     },
     "execution_count": 252,
     "metadata": {},
     "output_type": "execute_result"
    }
   ],
   "source": [
    "#Proporção de desfecho\n",
    "pd.DataFrame({'sudeste':df_sudeste['ABANDONO'].value_counts()/df_sudeste.shape[0],\n",
    "             'norte':df_norte['ABANDONO'].value_counts()/df_norte.shape[0],\n",
    "             'nordeste':df_nordeste['ABANDONO'].value_counts()/df_nordeste.shape[0],\n",
    "             'centro_oeste':df_centro_oeste['ABANDONO'].value_counts()/df_centro_oeste.shape[0],\n",
    "             'sul':df_sul['ABANDONO'].value_counts()/df_sul.shape[0],\n",
    "})"
   ]
  },
  {
   "cell_type": "code",
   "execution_count": 253,
   "metadata": {},
   "outputs": [
    {
     "data": {
      "text/html": [
       "<div>\n",
       "<style scoped>\n",
       "    .dataframe tbody tr th:only-of-type {\n",
       "        vertical-align: middle;\n",
       "    }\n",
       "\n",
       "    .dataframe tbody tr th {\n",
       "        vertical-align: top;\n",
       "    }\n",
       "\n",
       "    .dataframe thead th {\n",
       "        text-align: right;\n",
       "    }\n",
       "</style>\n",
       "<table border=\"1\" class=\"dataframe\">\n",
       "  <thead>\n",
       "    <tr style=\"text-align: right;\">\n",
       "      <th></th>\n",
       "      <th>IDADE_ANOS</th>\n",
       "      <th>CS_SEXO</th>\n",
       "      <th>CS_GESTANT_2</th>\n",
       "      <th>CS_GESTANT_3</th>\n",
       "      <th>CS_GESTANT_4</th>\n",
       "      <th>CS_GESTANT_5</th>\n",
       "      <th>CS_GESTANT_6</th>\n",
       "      <th>CS_GESTANT_7</th>\n",
       "      <th>CS_GESTANT_8</th>\n",
       "      <th>CS_RACA_1</th>\n",
       "      <th>...</th>\n",
       "      <th>TRANSF_4</th>\n",
       "      <th>TRANSF_5</th>\n",
       "      <th>TRANSF_6</th>\n",
       "      <th>porte_municipio_1</th>\n",
       "      <th>porte_municipio_2</th>\n",
       "      <th>porte_municipio_3</th>\n",
       "      <th>porte_municipio_4</th>\n",
       "      <th>porte_municipio_5</th>\n",
       "      <th>porte_municipio_6</th>\n",
       "      <th>ABANDONO</th>\n",
       "    </tr>\n",
       "  </thead>\n",
       "  <tbody>\n",
       "    <tr>\n",
       "      <th>86209</th>\n",
       "      <td>75.0</td>\n",
       "      <td>0</td>\n",
       "      <td>0</td>\n",
       "      <td>0</td>\n",
       "      <td>0</td>\n",
       "      <td>0</td>\n",
       "      <td>0</td>\n",
       "      <td>0</td>\n",
       "      <td>0</td>\n",
       "      <td>1</td>\n",
       "      <td>...</td>\n",
       "      <td>0</td>\n",
       "      <td>0</td>\n",
       "      <td>0</td>\n",
       "      <td>0</td>\n",
       "      <td>0</td>\n",
       "      <td>0</td>\n",
       "      <td>0</td>\n",
       "      <td>1</td>\n",
       "      <td>0</td>\n",
       "      <td>1</td>\n",
       "    </tr>\n",
       "    <tr>\n",
       "      <th>86210</th>\n",
       "      <td>22.0</td>\n",
       "      <td>0</td>\n",
       "      <td>0</td>\n",
       "      <td>0</td>\n",
       "      <td>0</td>\n",
       "      <td>0</td>\n",
       "      <td>0</td>\n",
       "      <td>0</td>\n",
       "      <td>0</td>\n",
       "      <td>0</td>\n",
       "      <td>...</td>\n",
       "      <td>0</td>\n",
       "      <td>0</td>\n",
       "      <td>0</td>\n",
       "      <td>0</td>\n",
       "      <td>0</td>\n",
       "      <td>0</td>\n",
       "      <td>0</td>\n",
       "      <td>1</td>\n",
       "      <td>0</td>\n",
       "      <td>0</td>\n",
       "    </tr>\n",
       "    <tr>\n",
       "      <th>86211</th>\n",
       "      <td>44.0</td>\n",
       "      <td>0</td>\n",
       "      <td>0</td>\n",
       "      <td>0</td>\n",
       "      <td>0</td>\n",
       "      <td>0</td>\n",
       "      <td>0</td>\n",
       "      <td>0</td>\n",
       "      <td>0</td>\n",
       "      <td>0</td>\n",
       "      <td>...</td>\n",
       "      <td>0</td>\n",
       "      <td>0</td>\n",
       "      <td>0</td>\n",
       "      <td>0</td>\n",
       "      <td>0</td>\n",
       "      <td>0</td>\n",
       "      <td>0</td>\n",
       "      <td>1</td>\n",
       "      <td>0</td>\n",
       "      <td>1</td>\n",
       "    </tr>\n",
       "    <tr>\n",
       "      <th>171406</th>\n",
       "      <td>39.0</td>\n",
       "      <td>0</td>\n",
       "      <td>0</td>\n",
       "      <td>0</td>\n",
       "      <td>0</td>\n",
       "      <td>0</td>\n",
       "      <td>0</td>\n",
       "      <td>0</td>\n",
       "      <td>0</td>\n",
       "      <td>0</td>\n",
       "      <td>...</td>\n",
       "      <td>0</td>\n",
       "      <td>0</td>\n",
       "      <td>0</td>\n",
       "      <td>0</td>\n",
       "      <td>0</td>\n",
       "      <td>0</td>\n",
       "      <td>0</td>\n",
       "      <td>1</td>\n",
       "      <td>0</td>\n",
       "      <td>1</td>\n",
       "    </tr>\n",
       "    <tr>\n",
       "      <th>256850</th>\n",
       "      <td>35.0</td>\n",
       "      <td>0</td>\n",
       "      <td>0</td>\n",
       "      <td>0</td>\n",
       "      <td>0</td>\n",
       "      <td>0</td>\n",
       "      <td>0</td>\n",
       "      <td>0</td>\n",
       "      <td>0</td>\n",
       "      <td>0</td>\n",
       "      <td>...</td>\n",
       "      <td>0</td>\n",
       "      <td>0</td>\n",
       "      <td>0</td>\n",
       "      <td>0</td>\n",
       "      <td>0</td>\n",
       "      <td>0</td>\n",
       "      <td>0</td>\n",
       "      <td>1</td>\n",
       "      <td>0</td>\n",
       "      <td>0</td>\n",
       "    </tr>\n",
       "    <tr>\n",
       "      <th>...</th>\n",
       "      <td>...</td>\n",
       "      <td>...</td>\n",
       "      <td>...</td>\n",
       "      <td>...</td>\n",
       "      <td>...</td>\n",
       "      <td>...</td>\n",
       "      <td>...</td>\n",
       "      <td>...</td>\n",
       "      <td>...</td>\n",
       "      <td>...</td>\n",
       "      <td>...</td>\n",
       "      <td>...</td>\n",
       "      <td>...</td>\n",
       "      <td>...</td>\n",
       "      <td>...</td>\n",
       "      <td>...</td>\n",
       "      <td>...</td>\n",
       "      <td>...</td>\n",
       "      <td>...</td>\n",
       "      <td>...</td>\n",
       "      <td>...</td>\n",
       "    </tr>\n",
       "    <tr>\n",
       "      <th>1025955</th>\n",
       "      <td>77.0</td>\n",
       "      <td>1</td>\n",
       "      <td>1</td>\n",
       "      <td>0</td>\n",
       "      <td>0</td>\n",
       "      <td>0</td>\n",
       "      <td>0</td>\n",
       "      <td>0</td>\n",
       "      <td>0</td>\n",
       "      <td>1</td>\n",
       "      <td>...</td>\n",
       "      <td>0</td>\n",
       "      <td>0</td>\n",
       "      <td>0</td>\n",
       "      <td>0</td>\n",
       "      <td>0</td>\n",
       "      <td>0</td>\n",
       "      <td>1</td>\n",
       "      <td>0</td>\n",
       "      <td>0</td>\n",
       "      <td>0</td>\n",
       "    </tr>\n",
       "    <tr>\n",
       "      <th>1025957</th>\n",
       "      <td>27.0</td>\n",
       "      <td>0</td>\n",
       "      <td>0</td>\n",
       "      <td>1</td>\n",
       "      <td>0</td>\n",
       "      <td>0</td>\n",
       "      <td>0</td>\n",
       "      <td>0</td>\n",
       "      <td>0</td>\n",
       "      <td>1</td>\n",
       "      <td>...</td>\n",
       "      <td>0</td>\n",
       "      <td>0</td>\n",
       "      <td>0</td>\n",
       "      <td>1</td>\n",
       "      <td>0</td>\n",
       "      <td>0</td>\n",
       "      <td>0</td>\n",
       "      <td>0</td>\n",
       "      <td>0</td>\n",
       "      <td>0</td>\n",
       "    </tr>\n",
       "    <tr>\n",
       "      <th>1025958</th>\n",
       "      <td>62.0</td>\n",
       "      <td>1</td>\n",
       "      <td>1</td>\n",
       "      <td>0</td>\n",
       "      <td>0</td>\n",
       "      <td>0</td>\n",
       "      <td>0</td>\n",
       "      <td>0</td>\n",
       "      <td>0</td>\n",
       "      <td>1</td>\n",
       "      <td>...</td>\n",
       "      <td>0</td>\n",
       "      <td>0</td>\n",
       "      <td>0</td>\n",
       "      <td>0</td>\n",
       "      <td>0</td>\n",
       "      <td>0</td>\n",
       "      <td>0</td>\n",
       "      <td>1</td>\n",
       "      <td>0</td>\n",
       "      <td>0</td>\n",
       "    </tr>\n",
       "    <tr>\n",
       "      <th>1025959</th>\n",
       "      <td>68.0</td>\n",
       "      <td>0</td>\n",
       "      <td>0</td>\n",
       "      <td>0</td>\n",
       "      <td>1</td>\n",
       "      <td>0</td>\n",
       "      <td>0</td>\n",
       "      <td>0</td>\n",
       "      <td>0</td>\n",
       "      <td>1</td>\n",
       "      <td>...</td>\n",
       "      <td>0</td>\n",
       "      <td>0</td>\n",
       "      <td>0</td>\n",
       "      <td>0</td>\n",
       "      <td>0</td>\n",
       "      <td>1</td>\n",
       "      <td>0</td>\n",
       "      <td>0</td>\n",
       "      <td>0</td>\n",
       "      <td>0</td>\n",
       "    </tr>\n",
       "    <tr>\n",
       "      <th>1025962</th>\n",
       "      <td>42.0</td>\n",
       "      <td>0</td>\n",
       "      <td>0</td>\n",
       "      <td>0</td>\n",
       "      <td>1</td>\n",
       "      <td>0</td>\n",
       "      <td>0</td>\n",
       "      <td>0</td>\n",
       "      <td>0</td>\n",
       "      <td>0</td>\n",
       "      <td>...</td>\n",
       "      <td>0</td>\n",
       "      <td>0</td>\n",
       "      <td>0</td>\n",
       "      <td>0</td>\n",
       "      <td>0</td>\n",
       "      <td>0</td>\n",
       "      <td>1</td>\n",
       "      <td>0</td>\n",
       "      <td>0</td>\n",
       "      <td>0</td>\n",
       "    </tr>\n",
       "  </tbody>\n",
       "</table>\n",
       "<p>96898 rows × 178 columns</p>\n",
       "</div>"
      ],
      "text/plain": [
       "         IDADE_ANOS  CS_SEXO  CS_GESTANT_2  CS_GESTANT_3  CS_GESTANT_4  \\\n",
       "86209          75.0        0             0             0             0   \n",
       "86210          22.0        0             0             0             0   \n",
       "86211          44.0        0             0             0             0   \n",
       "171406         39.0        0             0             0             0   \n",
       "256850         35.0        0             0             0             0   \n",
       "...             ...      ...           ...           ...           ...   \n",
       "1025955        77.0        1             1             0             0   \n",
       "1025957        27.0        0             0             1             0   \n",
       "1025958        62.0        1             1             0             0   \n",
       "1025959        68.0        0             0             0             1   \n",
       "1025962        42.0        0             0             0             1   \n",
       "\n",
       "         CS_GESTANT_5  CS_GESTANT_6  CS_GESTANT_7  CS_GESTANT_8  CS_RACA_1  \\\n",
       "86209               0             0             0             0          1   \n",
       "86210               0             0             0             0          0   \n",
       "86211               0             0             0             0          0   \n",
       "171406              0             0             0             0          0   \n",
       "256850              0             0             0             0          0   \n",
       "...               ...           ...           ...           ...        ...   \n",
       "1025955             0             0             0             0          1   \n",
       "1025957             0             0             0             0          1   \n",
       "1025958             0             0             0             0          1   \n",
       "1025959             0             0             0             0          1   \n",
       "1025962             0             0             0             0          0   \n",
       "\n",
       "         ...  TRANSF_4  TRANSF_5  TRANSF_6  porte_municipio_1  \\\n",
       "86209    ...         0         0         0                  0   \n",
       "86210    ...         0         0         0                  0   \n",
       "86211    ...         0         0         0                  0   \n",
       "171406   ...         0         0         0                  0   \n",
       "256850   ...         0         0         0                  0   \n",
       "...      ...       ...       ...       ...                ...   \n",
       "1025955  ...         0         0         0                  0   \n",
       "1025957  ...         0         0         0                  1   \n",
       "1025958  ...         0         0         0                  0   \n",
       "1025959  ...         0         0         0                  0   \n",
       "1025962  ...         0         0         0                  0   \n",
       "\n",
       "         porte_municipio_2  porte_municipio_3  porte_municipio_4  \\\n",
       "86209                    0                  0                  0   \n",
       "86210                    0                  0                  0   \n",
       "86211                    0                  0                  0   \n",
       "171406                   0                  0                  0   \n",
       "256850                   0                  0                  0   \n",
       "...                    ...                ...                ...   \n",
       "1025955                  0                  0                  1   \n",
       "1025957                  0                  0                  0   \n",
       "1025958                  0                  0                  0   \n",
       "1025959                  0                  1                  0   \n",
       "1025962                  0                  0                  1   \n",
       "\n",
       "         porte_municipio_5  porte_municipio_6  ABANDONO  \n",
       "86209                    1                  0         1  \n",
       "86210                    1                  0         0  \n",
       "86211                    1                  0         1  \n",
       "171406                   1                  0         1  \n",
       "256850                   1                  0         0  \n",
       "...                    ...                ...       ...  \n",
       "1025955                  0                  0         0  \n",
       "1025957                  0                  0         0  \n",
       "1025958                  1                  0         0  \n",
       "1025959                  0                  0         0  \n",
       "1025962                  0                  0         0  \n",
       "\n",
       "[96898 rows x 178 columns]"
      ]
     },
     "execution_count": 253,
     "metadata": {},
     "output_type": "execute_result"
    }
   ],
   "source": [
    "df_sudeste"
   ]
  },
  {
   "cell_type": "code",
   "execution_count": 254,
   "metadata": {
    "id": "LEwIp-TgzsO7"
   },
   "outputs": [],
   "source": [
    "# 2. Separar variável dependente (y) e independentes (X)\n",
    "X_sudeste = df_sudeste.drop(columns='ABANDONO')\n",
    "X_norte = df_norte.drop(columns='ABANDONO')\n",
    "X_nordeste = df_nordeste.drop(columns='ABANDONO')\n",
    "X_centro_oeste = df_centro_oeste.drop(columns='ABANDONO')\n",
    "X_sul = df_sul.drop(columns='ABANDONO')\n",
    "\n",
    "\n",
    "y_sudeste = df_sudeste['ABANDONO']\n",
    "y_norte = df_norte['ABANDONO']\n",
    "y_nordeste = df_nordeste['ABANDONO']\n",
    "y_centro_oeste = df_centro_oeste['ABANDONO']\n",
    "y_sul = df_sul['ABANDONO']\n"
   ]
  },
  {
   "cell_type": "markdown",
   "metadata": {},
   "source": [
    "#### Subamostragem <p>\n",
    "Devido a grande quantidade de linhas, iremos subamostrar para rodar os testes"
   ]
  },
  {
   "cell_type": "code",
   "execution_count": 257,
   "metadata": {},
   "outputs": [
    {
     "name": "stdout",
     "output_type": "stream",
     "text": [
      "Quantidade de registros para Sudeste: 9689\n",
      "Quantidade de registros para Norte: 2788\n",
      "Quantidade de registros para Nordeste: 5799\n",
      "Quantidade de registros para Centro Oeste: 1126\n",
      "Quantidade de registros para Sul: 2662\n"
     ]
    }
   ],
   "source": [
    "X_sample_sudeste, _, y_sample_sudeste, _ = train_test_split(X_sudeste, y_sudeste, train_size=0.1, stratify=y_sudeste, random_state=42)\n",
    "X_sample_norte, _, y_sample_norte, _ = train_test_split(X_norte, y_norte, train_size=0.1, stratify=y_norte, random_state=42)\n",
    "X_sample_nordeste, _, y_sample_nordeste, _ = train_test_split(X_nordeste, y_nordeste, train_size=0.1, stratify=y_nordeste, random_state=42)\n",
    "X_sample_centro_oeste, _, y_sample_centro_oeste, _ = train_test_split(X_centro_oeste, y_centro_oeste, train_size=0.1, stratify=y_centro_oeste, random_state=42)\n",
    "X_sample_sul, _, y_sample_sul, _ = train_test_split(X_sul, y_sul, train_size=0.1, stratify=y_sul, random_state=42)\n",
    "\n",
    "print(f\"Quantidade de registros para Sudeste: {X_sample_sudeste.shape[0]}\")\n",
    "print(f\"Quantidade de registros para Norte: {X_sample_norte.shape[0]}\")\n",
    "print(f\"Quantidade de registros para Nordeste: {X_sample_nordeste.shape[0]}\")\n",
    "print(f\"Quantidade de registros para Centro Oeste: {X_sample_centro_oeste.shape[0]}\")\n",
    "print(f\"Quantidade de registros para Sul: {X_sample_sul.shape[0]}\")"
   ]
  },
  {
   "cell_type": "code",
   "execution_count": 258,
   "metadata": {},
   "outputs": [],
   "source": [
    "#salvando as amostras\n",
    "os.makedirs(\"dados/amostras_ohe\", exist_ok=True)\n",
    "\n",
    "amostras = {\n",
    "    \"sudeste\": {\n",
    "        \"X_sample\": X_sample_sudeste,\n",
    "        \"y_sample\": y_sample_sudeste\n",
    "    },\n",
    "    \"norte\": {\n",
    "        \"X_sample\": X_sample_norte,\n",
    "        \"y_sample\": y_sample_norte\n",
    "    },\n",
    "    \"nordeste\": {\n",
    "        \"X_sample\": X_sample_nordeste,\n",
    "        \"y_sample\": y_sample_nordeste\n",
    "    },\n",
    "    \"centro_oeste\": {\n",
    "        \"X_sample\": X_sample_centro_oeste,\n",
    "        \"y_sample\": y_sample_centro_oeste\n",
    "    },\n",
    "    \"sul\": {\n",
    "        \"X_sample\": X_sample_sul,\n",
    "        \"y_sample\": y_sample_sul\n",
    "    }\n",
    "}\n",
    "\n",
    "# Loop para salvar todos os DataFrames\n",
    "for regiao, conjuntos in amostras.items():\n",
    "    for tipo, df in conjuntos.items():\n",
    "        nome_arquivo = f\"dados/amostras_ohe/{tipo}_{regiao}.csv\"\n",
    "        df.to_csv(nome_arquivo, index=False)"
   ]
  },
  {
   "cell_type": "markdown",
   "metadata": {},
   "source": [
    "### Separando Treino e Teste"
   ]
  },
  {
   "cell_type": "code",
   "execution_count": 259,
   "metadata": {},
   "outputs": [],
   "source": [
    "X_train_sudeste, X_test_sudeste, y_train_sudeste, y_test_sudeste = train_test_split(X_sample_sudeste, y_sample_sudeste, test_size=0.3, random_state=42, stratify=y_sample_sudeste)\n",
    "X_train_norte, X_test_norte, y_train_norte, y_test_norte = train_test_split(X_sample_norte, y_sample_norte, test_size=0.3, random_state=42, stratify=y_sample_norte)\n",
    "X_train_nordeste, X_test_nordeste, y_train_nordeste, y_test_nordeste = train_test_split(X_sample_nordeste, y_sample_nordeste, test_size=0.3, random_state=42, stratify=y_sample_nordeste)\n",
    "X_train_centro_oeste, X_test_centro_oeste, y_train_centro_oeste, y_test_centro_oeste = train_test_split(X_sample_centro_oeste, y_sample_centro_oeste, test_size=0.3, random_state=42, stratify=y_sample_centro_oeste)\n",
    "X_train_sul, X_test_sul, y_train_sul, y_test_sul = train_test_split(X_sample_sul, y_sample_sul, test_size=0.3, random_state=42, stratify=y_sample_sul)\n"
   ]
  },
  {
   "cell_type": "code",
   "execution_count": 260,
   "metadata": {},
   "outputs": [],
   "source": [
    "# Garante que a pasta 'train_test' exista\n",
    "os.makedirs(\"dados/train_test_ohe\", exist_ok=True)\n",
    "\n",
    "#salvando os csv\n",
    "dados = {\n",
    "    \"sudeste\": {\n",
    "        \"X_train\": X_train_sudeste,\n",
    "        \"X_test\": X_test_sudeste,\n",
    "        \"y_train\": y_train_sudeste,\n",
    "        \"y_test\": y_test_sudeste\n",
    "    },\n",
    "    \"norte\": {\n",
    "        \"X_train\": X_train_norte,\n",
    "        \"X_test\": X_test_norte,\n",
    "        \"y_train\": y_train_norte,\n",
    "        \"y_test\": y_test_norte\n",
    "    },\n",
    "    \"nordeste\": {\n",
    "        \"X_train\": X_train_nordeste,\n",
    "        \"X_test\": X_test_nordeste,\n",
    "        \"y_train\": y_train_nordeste,\n",
    "        \"y_test\": y_test_nordeste\n",
    "    },\n",
    "    \"centro_oeste\": {\n",
    "        \"X_train\": X_train_centro_oeste,\n",
    "        \"X_test\": X_test_centro_oeste,\n",
    "        \"y_train\": y_train_centro_oeste,\n",
    "        \"y_test\": y_test_centro_oeste\n",
    "    },\n",
    "    \"sul\": {\n",
    "        \"X_train\": X_train_sul,\n",
    "        \"X_test\": X_test_sul,\n",
    "        \"y_train\": y_train_sul,\n",
    "        \"y_test\": y_test_sul\n",
    "    }\n",
    "}\n",
    "\n",
    "# Loop para salvar todos os DataFrames\n",
    "for regiao, conjuntos in dados.items():\n",
    "    for tipo, df in conjuntos.items():\n",
    "        nome_arquivo = f\"dados/train_test_ohe/{tipo}_{regiao}.csv\"\n",
    "        df.to_csv(nome_arquivo, index=False)"
   ]
  }
 ],
 "metadata": {
  "colab": {
   "provenance": []
  },
  "kernelspec": {
   "display_name": "base",
   "language": "python",
   "name": "python3"
  },
  "language_info": {
   "codemirror_mode": {
    "name": "ipython",
    "version": 3
   },
   "file_extension": ".py",
   "mimetype": "text/x-python",
   "name": "python",
   "nbconvert_exporter": "python",
   "pygments_lexer": "ipython3",
   "version": "3.11.7"
  }
 },
 "nbformat": 4,
 "nbformat_minor": 0
}
