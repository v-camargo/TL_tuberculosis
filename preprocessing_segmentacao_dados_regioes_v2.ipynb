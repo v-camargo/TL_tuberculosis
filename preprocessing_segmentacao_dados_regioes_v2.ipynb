{
 "cells": [
  {
   "cell_type": "code",
   "execution_count": 4,
   "metadata": {
    "id": "AzN0v5QZVf42"
   },
   "outputs": [],
   "source": [
    "import pandas as pd\n",
    "from sklearn.model_selection import train_test_split\n",
    "import os"
   ]
  },
  {
   "cell_type": "markdown",
   "metadata": {},
   "source": [
    "## Setup e Importação"
   ]
  },
  {
   "cell_type": "code",
   "execution_count": null,
   "metadata": {
    "executionInfo": {
     "elapsed": 24216,
     "status": "ok",
     "timestamp": 1740080633968,
     "user": {
      "displayName": "Marcela Quaresma",
      "userId": "03043466333898482850"
     },
     "user_tz": 180
    },
    "id": "p-RPvxjJyydR"
   },
   "outputs": [],
   "source": [
    "# Caminho do arquivo CSV no Google Drive\n",
    "csv_file = os.getcwd() +\"\\\\dados\\\\dados_tuberculose_2013_2023_limpo.csv\"\n",
    "xlsx_file = os.getcwd() +\"\\\\dados\\\\pop_residente_municipios.xlsx\"\n",
    "\n",
    "df_raw = pd.read_csv(csv_file, encoding='latin1', low_memory=False)\n",
    "df_munic = pd.read_excel(xlsx_file)"
   ]
  },
  {
   "cell_type": "code",
   "execution_count": 6,
   "metadata": {},
   "outputs": [],
   "source": [
    "dummy_var = ('CS_SEXO')"
   ]
  },
  {
   "cell_type": "markdown",
   "metadata": {},
   "source": [
    "## Juntando as Tabelas"
   ]
  },
  {
   "cell_type": "code",
   "execution_count": 43,
   "metadata": {},
   "outputs": [],
   "source": [
    "df_munic_tidy = df_munic.melt(id_vars=['MUNICIPIO', 'ID_MUNIC', 'NOME_MUNIC'], var_name='ANO', value_name='POP_RESIDENTE_MUNIC')"
   ]
  },
  {
   "cell_type": "code",
   "execution_count": null,
   "metadata": {},
   "outputs": [],
   "source": [
    "df_merge = df_raw.merge(df_munic_tidy, left_on=['ID_MUNIC_A','NU_ANO'], right_on=['ID_MUNIC', 'ANO'], how='left')"
   ]
  },
  {
   "cell_type": "code",
   "execution_count": null,
   "metadata": {},
   "outputs": [
    {
     "data": {
      "text/plain": [
       "0"
      ]
     },
     "execution_count": 51,
     "metadata": {},
     "output_type": "execute_result"
    }
   ],
   "source": [
    "#Check da quantidade de linhas após merge\n",
    "df_raw.shape[0] - df_merge.shape[0]"
   ]
  },
  {
   "cell_type": "code",
   "execution_count": 52,
   "metadata": {},
   "outputs": [
    {
     "data": {
      "text/html": [
       "<div>\n",
       "<style scoped>\n",
       "    .dataframe tbody tr th:only-of-type {\n",
       "        vertical-align: middle;\n",
       "    }\n",
       "\n",
       "    .dataframe tbody tr th {\n",
       "        vertical-align: top;\n",
       "    }\n",
       "\n",
       "    .dataframe thead th {\n",
       "        text-align: right;\n",
       "    }\n",
       "</style>\n",
       "<table border=\"1\" class=\"dataframe\">\n",
       "  <thead>\n",
       "    <tr style=\"text-align: right;\">\n",
       "      <th></th>\n",
       "      <th>NU_ANO</th>\n",
       "      <th>SG_UF_NOT</th>\n",
       "      <th>ID_MUNICIP</th>\n",
       "      <th>ID_REGIONA</th>\n",
       "      <th>DT_DIAG</th>\n",
       "      <th>NU_IDADE_N</th>\n",
       "      <th>CS_SEXO</th>\n",
       "      <th>CS_GESTANT</th>\n",
       "      <th>CS_RACA</th>\n",
       "      <th>CS_ESCOL_N</th>\n",
       "      <th>...</th>\n",
       "      <th>ANT_RETRO</th>\n",
       "      <th>BAC_APOS_6</th>\n",
       "      <th>TRANSF</th>\n",
       "      <th>IDADE_ANOS</th>\n",
       "      <th>ABANDONO</th>\n",
       "      <th>MUNICIPIO</th>\n",
       "      <th>ID_MUNIC</th>\n",
       "      <th>NOME_MUNIC</th>\n",
       "      <th>ANO</th>\n",
       "      <th>POP_RESIDENTE_MUNIC</th>\n",
       "    </tr>\n",
       "  </thead>\n",
       "  <tbody>\n",
       "    <tr>\n",
       "      <th>0</th>\n",
       "      <td>2013</td>\n",
       "      <td>42</td>\n",
       "      <td>421010.0</td>\n",
       "      <td>0.0</td>\n",
       "      <td>2013-11-29</td>\n",
       "      <td>4058.0</td>\n",
       "      <td>M</td>\n",
       "      <td>6.0</td>\n",
       "      <td>1.0</td>\n",
       "      <td>1.0</td>\n",
       "      <td>...</td>\n",
       "      <td>0.0</td>\n",
       "      <td>0.0</td>\n",
       "      <td>0.0</td>\n",
       "      <td>58.0</td>\n",
       "      <td>0</td>\n",
       "      <td>410690 CURITIBA</td>\n",
       "      <td>410690.0</td>\n",
       "      <td>CURITIBA</td>\n",
       "      <td>2013</td>\n",
       "      <td>1825074.0</td>\n",
       "    </tr>\n",
       "    <tr>\n",
       "      <th>1</th>\n",
       "      <td>2013</td>\n",
       "      <td>42</td>\n",
       "      <td>420460.0</td>\n",
       "      <td>1558.0</td>\n",
       "      <td>2013-08-30</td>\n",
       "      <td>4025.0</td>\n",
       "      <td>M</td>\n",
       "      <td>6.0</td>\n",
       "      <td>1.0</td>\n",
       "      <td>2.0</td>\n",
       "      <td>...</td>\n",
       "      <td>0.0</td>\n",
       "      <td>0.0</td>\n",
       "      <td>0.0</td>\n",
       "      <td>25.0</td>\n",
       "      <td>0</td>\n",
       "      <td>420460 CRICIUMA</td>\n",
       "      <td>420460.0</td>\n",
       "      <td>CRICIUMA</td>\n",
       "      <td>2013</td>\n",
       "      <td>202374.0</td>\n",
       "    </tr>\n",
       "    <tr>\n",
       "      <th>2</th>\n",
       "      <td>2013</td>\n",
       "      <td>41</td>\n",
       "      <td>410830.0</td>\n",
       "      <td>1363.0</td>\n",
       "      <td>2013-07-13</td>\n",
       "      <td>4076.0</td>\n",
       "      <td>M</td>\n",
       "      <td>6.0</td>\n",
       "      <td>1.0</td>\n",
       "      <td>9.0</td>\n",
       "      <td>...</td>\n",
       "      <td>2.0</td>\n",
       "      <td>0.0</td>\n",
       "      <td>3.0</td>\n",
       "      <td>76.0</td>\n",
       "      <td>0</td>\n",
       "      <td>410830 FOZ DO IGUACU</td>\n",
       "      <td>410830.0</td>\n",
       "      <td>FOZ DO IGUACU</td>\n",
       "      <td>2013</td>\n",
       "      <td>270746.0</td>\n",
       "    </tr>\n",
       "    <tr>\n",
       "      <th>3</th>\n",
       "      <td>2013</td>\n",
       "      <td>31</td>\n",
       "      <td>311860.0</td>\n",
       "      <td>1449.0</td>\n",
       "      <td>2013-06-12</td>\n",
       "      <td>4067.0</td>\n",
       "      <td>M</td>\n",
       "      <td>6.0</td>\n",
       "      <td>2.0</td>\n",
       "      <td>9.0</td>\n",
       "      <td>...</td>\n",
       "      <td>0.0</td>\n",
       "      <td>0.0</td>\n",
       "      <td>0.0</td>\n",
       "      <td>67.0</td>\n",
       "      <td>0</td>\n",
       "      <td>311860 CONTAGEM</td>\n",
       "      <td>311860.0</td>\n",
       "      <td>CONTAGEM</td>\n",
       "      <td>2013</td>\n",
       "      <td>625734.0</td>\n",
       "    </tr>\n",
       "    <tr>\n",
       "      <th>4</th>\n",
       "      <td>2013</td>\n",
       "      <td>25</td>\n",
       "      <td>250750.0</td>\n",
       "      <td>1377.0</td>\n",
       "      <td>2013-08-01</td>\n",
       "      <td>4035.0</td>\n",
       "      <td>M</td>\n",
       "      <td>6.0</td>\n",
       "      <td>4.0</td>\n",
       "      <td>1.0</td>\n",
       "      <td>...</td>\n",
       "      <td>0.0</td>\n",
       "      <td>0.0</td>\n",
       "      <td>0.0</td>\n",
       "      <td>35.0</td>\n",
       "      <td>1</td>\n",
       "      <td>250750 JOAO PESSOA</td>\n",
       "      <td>250750.0</td>\n",
       "      <td>JOAO PESSOA</td>\n",
       "      <td>2013</td>\n",
       "      <td>765306.0</td>\n",
       "    </tr>\n",
       "    <tr>\n",
       "      <th>...</th>\n",
       "      <td>...</td>\n",
       "      <td>...</td>\n",
       "      <td>...</td>\n",
       "      <td>...</td>\n",
       "      <td>...</td>\n",
       "      <td>...</td>\n",
       "      <td>...</td>\n",
       "      <td>...</td>\n",
       "      <td>...</td>\n",
       "      <td>...</td>\n",
       "      <td>...</td>\n",
       "      <td>...</td>\n",
       "      <td>...</td>\n",
       "      <td>...</td>\n",
       "      <td>...</td>\n",
       "      <td>...</td>\n",
       "      <td>...</td>\n",
       "      <td>...</td>\n",
       "      <td>...</td>\n",
       "      <td>...</td>\n",
       "      <td>...</td>\n",
       "    </tr>\n",
       "    <tr>\n",
       "      <th>1025960</th>\n",
       "      <td>2023</td>\n",
       "      <td>43</td>\n",
       "      <td>431490.0</td>\n",
       "      <td>159.0</td>\n",
       "      <td>2023-12-31</td>\n",
       "      <td>4069.0</td>\n",
       "      <td>M</td>\n",
       "      <td>6.0</td>\n",
       "      <td>1.0</td>\n",
       "      <td>3.0</td>\n",
       "      <td>...</td>\n",
       "      <td>2.0</td>\n",
       "      <td>9.0</td>\n",
       "      <td>9.0</td>\n",
       "      <td>69.0</td>\n",
       "      <td>0</td>\n",
       "      <td>431490 PORTO ALEGRE</td>\n",
       "      <td>431490.0</td>\n",
       "      <td>PORTO ALEGRE</td>\n",
       "      <td>2023</td>\n",
       "      <td>1405685.0</td>\n",
       "    </tr>\n",
       "    <tr>\n",
       "      <th>1025961</th>\n",
       "      <td>2023</td>\n",
       "      <td>14</td>\n",
       "      <td>140010.0</td>\n",
       "      <td>9.0</td>\n",
       "      <td>2023-12-31</td>\n",
       "      <td>4023.0</td>\n",
       "      <td>F</td>\n",
       "      <td>5.0</td>\n",
       "      <td>4.0</td>\n",
       "      <td>9.0</td>\n",
       "      <td>...</td>\n",
       "      <td>9.0</td>\n",
       "      <td>9.0</td>\n",
       "      <td>9.0</td>\n",
       "      <td>23.0</td>\n",
       "      <td>0</td>\n",
       "      <td>140010 BOA VISTA</td>\n",
       "      <td>140010.0</td>\n",
       "      <td>BOA VISTA</td>\n",
       "      <td>2023</td>\n",
       "      <td>454980.0</td>\n",
       "    </tr>\n",
       "    <tr>\n",
       "      <th>1025962</th>\n",
       "      <td>2023</td>\n",
       "      <td>33</td>\n",
       "      <td>330010.0</td>\n",
       "      <td>9.0</td>\n",
       "      <td>2023-12-31</td>\n",
       "      <td>4042.0</td>\n",
       "      <td>M</td>\n",
       "      <td>6.0</td>\n",
       "      <td>4.0</td>\n",
       "      <td>9.0</td>\n",
       "      <td>...</td>\n",
       "      <td>9.0</td>\n",
       "      <td>9.0</td>\n",
       "      <td>9.0</td>\n",
       "      <td>42.0</td>\n",
       "      <td>0</td>\n",
       "      <td>330010 ANGRA DOS REIS</td>\n",
       "      <td>330010.0</td>\n",
       "      <td>ANGRA DOS REIS</td>\n",
       "      <td>2023</td>\n",
       "      <td>179494.0</td>\n",
       "    </tr>\n",
       "    <tr>\n",
       "      <th>1025963</th>\n",
       "      <td>2023</td>\n",
       "      <td>26</td>\n",
       "      <td>261160.0</td>\n",
       "      <td>149.0</td>\n",
       "      <td>2023-12-31</td>\n",
       "      <td>4089.0</td>\n",
       "      <td>M</td>\n",
       "      <td>6.0</td>\n",
       "      <td>4.0</td>\n",
       "      <td>1.0</td>\n",
       "      <td>...</td>\n",
       "      <td>9.0</td>\n",
       "      <td>9.0</td>\n",
       "      <td>9.0</td>\n",
       "      <td>89.0</td>\n",
       "      <td>0</td>\n",
       "      <td>261160 RECIFE</td>\n",
       "      <td>261160.0</td>\n",
       "      <td>RECIFE</td>\n",
       "      <td>2023</td>\n",
       "      <td>1592362.0</td>\n",
       "    </tr>\n",
       "    <tr>\n",
       "      <th>1025964</th>\n",
       "      <td>2023</td>\n",
       "      <td>26</td>\n",
       "      <td>261160.0</td>\n",
       "      <td>149.0</td>\n",
       "      <td>2023-12-31</td>\n",
       "      <td>4054.0</td>\n",
       "      <td>M</td>\n",
       "      <td>6.0</td>\n",
       "      <td>1.0</td>\n",
       "      <td>9.0</td>\n",
       "      <td>...</td>\n",
       "      <td>9.0</td>\n",
       "      <td>9.0</td>\n",
       "      <td>9.0</td>\n",
       "      <td>54.0</td>\n",
       "      <td>0</td>\n",
       "      <td>261160 RECIFE</td>\n",
       "      <td>261160.0</td>\n",
       "      <td>RECIFE</td>\n",
       "      <td>2023</td>\n",
       "      <td>1592362.0</td>\n",
       "    </tr>\n",
       "  </tbody>\n",
       "</table>\n",
       "<p>1025965 rows × 83 columns</p>\n",
       "</div>"
      ],
      "text/plain": [
       "        NU_ANO  SG_UF_NOT  ID_MUNICIP  ID_REGIONA     DT_DIAG  NU_IDADE_N  \\\n",
       "0         2013         42    421010.0         0.0  2013-11-29      4058.0   \n",
       "1         2013         42    420460.0      1558.0  2013-08-30      4025.0   \n",
       "2         2013         41    410830.0      1363.0  2013-07-13      4076.0   \n",
       "3         2013         31    311860.0      1449.0  2013-06-12      4067.0   \n",
       "4         2013         25    250750.0      1377.0  2013-08-01      4035.0   \n",
       "...        ...        ...         ...         ...         ...         ...   \n",
       "1025960   2023         43    431490.0       159.0  2023-12-31      4069.0   \n",
       "1025961   2023         14    140010.0         9.0  2023-12-31      4023.0   \n",
       "1025962   2023         33    330010.0         9.0  2023-12-31      4042.0   \n",
       "1025963   2023         26    261160.0       149.0  2023-12-31      4089.0   \n",
       "1025964   2023         26    261160.0       149.0  2023-12-31      4054.0   \n",
       "\n",
       "        CS_SEXO  CS_GESTANT  CS_RACA  CS_ESCOL_N  ...  ANT_RETRO  BAC_APOS_6  \\\n",
       "0             M         6.0      1.0         1.0  ...        0.0         0.0   \n",
       "1             M         6.0      1.0         2.0  ...        0.0         0.0   \n",
       "2             M         6.0      1.0         9.0  ...        2.0         0.0   \n",
       "3             M         6.0      2.0         9.0  ...        0.0         0.0   \n",
       "4             M         6.0      4.0         1.0  ...        0.0         0.0   \n",
       "...         ...         ...      ...         ...  ...        ...         ...   \n",
       "1025960       M         6.0      1.0         3.0  ...        2.0         9.0   \n",
       "1025961       F         5.0      4.0         9.0  ...        9.0         9.0   \n",
       "1025962       M         6.0      4.0         9.0  ...        9.0         9.0   \n",
       "1025963       M         6.0      4.0         1.0  ...        9.0         9.0   \n",
       "1025964       M         6.0      1.0         9.0  ...        9.0         9.0   \n",
       "\n",
       "         TRANSF  IDADE_ANOS  ABANDONO              MUNICIPIO  ID_MUNIC  \\\n",
       "0           0.0        58.0         0        410690 CURITIBA  410690.0   \n",
       "1           0.0        25.0         0        420460 CRICIUMA  420460.0   \n",
       "2           3.0        76.0         0   410830 FOZ DO IGUACU  410830.0   \n",
       "3           0.0        67.0         0        311860 CONTAGEM  311860.0   \n",
       "4           0.0        35.0         1     250750 JOAO PESSOA  250750.0   \n",
       "...         ...         ...       ...                    ...       ...   \n",
       "1025960     9.0        69.0         0    431490 PORTO ALEGRE  431490.0   \n",
       "1025961     9.0        23.0         0       140010 BOA VISTA  140010.0   \n",
       "1025962     9.0        42.0         0  330010 ANGRA DOS REIS  330010.0   \n",
       "1025963     9.0        89.0         0          261160 RECIFE  261160.0   \n",
       "1025964     9.0        54.0         0          261160 RECIFE  261160.0   \n",
       "\n",
       "             NOME_MUNIC   ANO POP_RESIDENTE_MUNIC  \n",
       "0              CURITIBA  2013           1825074.0  \n",
       "1              CRICIUMA  2013            202374.0  \n",
       "2         FOZ DO IGUACU  2013            270746.0  \n",
       "3              CONTAGEM  2013            625734.0  \n",
       "4           JOAO PESSOA  2013            765306.0  \n",
       "...                 ...   ...                 ...  \n",
       "1025960    PORTO ALEGRE  2023           1405685.0  \n",
       "1025961       BOA VISTA  2023            454980.0  \n",
       "1025962  ANGRA DOS REIS  2023            179494.0  \n",
       "1025963          RECIFE  2023           1592362.0  \n",
       "1025964          RECIFE  2023           1592362.0  \n",
       "\n",
       "[1025965 rows x 83 columns]"
      ]
     },
     "execution_count": 52,
     "metadata": {},
     "output_type": "execute_result"
    }
   ],
   "source": [
    "df_merge"
   ]
  },
  {
   "cell_type": "markdown",
   "metadata": {},
   "source": [
    "## Filtros "
   ]
  },
  {
   "cell_type": "markdown",
   "metadata": {},
   "source": [
    "| Nome UF | Código IBGE |\n",
    "| --- | --- |\n",
    "|Rondônia|11|\n",
    "|Acre|12|\n",
    "|Amazonas|13|\n",
    "|Roraima|14|\n",
    "|Pará|15|\n",
    "|Amapá|16|\n",
    "|Tocantins|17|\n",
    "|Maranhão|21|\n",
    "|Piauí|22|\n",
    "|Ceará|23|\n",
    "|Rio Grande do Norte|24|\n",
    "|Paraíba|25|\n",
    "|Pernambuco|26|\n",
    "|Alagoas|27|\n",
    "|Sergipe|28|\n",
    "|Bahia|29|\n",
    "|Minas Gerais|31|\n",
    "|Espírito Santo|32|\n",
    "|Rio de Janeiro|33|\n",
    "|São Paulo|35|\n",
    "|Paraná|41|\n",
    "|Santa Catarina|42|\n",
    "|Rio Grande do Sul|43|\n",
    "|Mato Grosso do Sul|50|\n",
    "|Mato Grosso|51|\n",
    "|Goiás|52|\n",
    "|Distrito Federal|53|"
   ]
  },
  {
   "cell_type": "markdown",
   "metadata": {},
   "source": [
    "## Seleção de Variáveis e Tratamento\n"
   ]
  },
  {
   "cell_type": "code",
   "execution_count": 53,
   "metadata": {},
   "outputs": [],
   "source": [
    "# 1. Criar o DataFrame com as variáveis selecionadas\n",
    "variaveis_independentes = [ 'IDADE_ANOS', 'CS_SEXO', 'CS_GESTANT', 'CS_RACA', 'CS_ESCOL_N', 'ID_OCUPA_N', 'TRATAMENTO',\n",
    "    'RAIOX_TORA', 'TESTE_TUBE', 'FORMA', 'AGRAVAIDS', 'AGRAVALCOO', 'AGRAVDIABE',\n",
    "    'AGRAVDOENC', 'AGRAVOUTRA', 'AGRAVDROGA', 'AGRAVTABAC', 'BACILOSC_E', 'CULTURA_ES', 'CULTURA_OU', 'HIV', 'HISTOPATOL',\n",
    "    'RIFAMPICIN', 'ISONIAZIDA', 'ETAMBUTOL', 'ESTREPTOMI', 'PIRAZINAMI',\n",
    "    'ETIONAMIDA','NU_COMU_EX', 'DOENCA_TRA', 'TRATSUP_AT',  \n",
    "    'TPUNINOT', 'POP_LIBER', 'POP_RUA', 'POP_SAUDE', 'POP_IMIG',\n",
    "    'BENEF_GOV', 'TEST_MOLEC', 'TEST_SENSI', 'ANT_RETRO', 'TRANSF']\n",
    "\n",
    "variaveis_local = ['SG_UF_AT','SG_UF_2','ID_MUNIC_A']\n",
    "variaveis_acompanhamento = ['BACILOSC_1', 'BACILOSC_2', 'BACILOSC_3', 'BACILOSC_4', 'BACILOSC_5', 'BACILOSC_6', 'BAC_APOS_6', 'BACILOS_E2', 'BACILOSC_O', 'SITUA_9_M','SITUA_12_M']\n",
    "#Estas são variáveis que buscamos em bases externas, representantes das características dos municípios\n",
    "variaveis_exogenas = ['POP_RESIDENTE_MUNIC']\n",
    "\n",
    "# Novo DataFrame com as variáveis independentes e alvo\n",
    "df_modelagem = df_merge[['ABANDONO'] + variaveis_independentes +['ID_MUNIC_A']+['SG_UF']+variaveis_exogenas].copy()"
   ]
  },
  {
   "cell_type": "code",
   "execution_count": 55,
   "metadata": {},
   "outputs": [
    {
     "data": {
      "text/plain": [
       "Index(['ABANDONO', 'AGRAVAIDS', 'AGRAVALCOO', 'AGRAVDIABE', 'AGRAVDOENC',\n",
       "       'AGRAVDROGA', 'AGRAVOUTRA', 'AGRAVTABAC', 'ANT_RETRO', 'BACILOSC_E',\n",
       "       'BENEF_GOV', 'CS_ESCOL_N', 'CS_GESTANT', 'CS_RACA', 'CS_SEXO',\n",
       "       'CULTURA_ES', 'CULTURA_OU', 'DOENCA_TRA', 'ESTREPTOMI', 'ETAMBUTOL',\n",
       "       'ETIONAMIDA', 'FORMA', 'HISTOPATOL', 'HIV', 'IDADE_ANOS', 'ID_MUNIC_A',\n",
       "       'ID_OCUPA_N', 'ISONIAZIDA', 'NU_COMU_EX', 'PIRAZINAMI', 'POP_IMIG',\n",
       "       'POP_LIBER', 'POP_RESIDENTE_MUNIC', 'POP_RUA', 'POP_SAUDE',\n",
       "       'RAIOX_TORA', 'RIFAMPICIN', 'SG_UF', 'TESTE_TUBE', 'TEST_MOLEC',\n",
       "       'TEST_SENSI', 'TPUNINOT', 'TRANSF', 'TRATAMENTO', 'TRATSUP_AT'],\n",
       "      dtype='object')"
      ]
     },
     "execution_count": 55,
     "metadata": {},
     "output_type": "execute_result"
    }
   ],
   "source": [
    "df_modelagem.columns.sort_values()"
   ]
  },
  {
   "cell_type": "markdown",
   "metadata": {},
   "source": [
    "v4: 'ID_OCUPA_N', 'TESTE_TUBE', 'CULTURA_OU', 'ETIONAMIDA', 'NU_CONTATO','NU_COMU_EX', 'DOENCA_TRA'\n",
    "\n",
    "<P> \n",
    "Comentários: \n",
    "<p>\n",
    "\n",
    "- Retiro campo HIV, senod que já tenho AGRAVAIDS?   \n",
    "- Variavel ETIONAMIDA está correta? No dicionario está mal definida  \n",
    "- Variável OUTRAS pode ser retirada? Qual a proporção de nao informados dela? Não estou utilizando a OUTRAS_DES \n",
    "    - OUTRAS foi retirado\n",
    "- Variáveis 'NU_CONTATO','NU_COMU_EX' não seguem regra de negócio. Há registros de maior NU_COMU_EX (numero de contatos examinados) do que NU_CONTATO (numero de contatos existentes). QUal confiar? Alem disso, NU_COMU_EX tem bastante 9. Será que o 9 foi automático?\n",
    "    - NU_CONTATO foi retirado\n",
    "- ANT_RETRO não está descrita no dicionário e, se for ANTIRRETROVIRAL, existem mais números do que 0,1,2,9. Vale a pena deixar essa variável?"
   ]
  },
  {
   "cell_type": "code",
   "execution_count": 20,
   "metadata": {},
   "outputs": [
    {
     "data": {
      "text/plain": [
       "NU_COMU_EX\n",
       "0.0    437952\n",
       "1.0    112642\n",
       "2.0    108887\n",
       "9.0    105757\n",
       "3.0     87714\n",
       "4.0     58082\n",
       "5.0     36631\n",
       "6.0     21847\n",
       "7.0     12790\n",
       "8.0      9979\n",
       "Name: count, dtype: int64"
      ]
     },
     "execution_count": 20,
     "metadata": {},
     "output_type": "execute_result"
    }
   ],
   "source": [
    "#Linhas rascunho na exploração\n",
    "\n",
    "df_raw[['NU_CONTATO','NU_COMU_EX']][df_raw['NU_CONTATO'] - df_raw['NU_COMU_EX'] < 0]\n",
    "df_raw['ANT_RETRO'].value_counts()/df_raw.shape[0]\n",
    "df_raw['NU_COMU_EX'].value_counts().sort_values(ascending=False).head(10)"
   ]
  },
  {
   "cell_type": "code",
   "execution_count": 56,
   "metadata": {},
   "outputs": [
    {
     "data": {
      "text/plain": [
       "array([   0,    0,    0,    0,    0,    0,    0,    0,    0,    0,    0,\n",
       "          0,    0,    0,    0,    0,    0,    0,    0,    0,    0,    0,\n",
       "          0,    0,    0,    0,    0,    0,    0,    0,    0,    0,    0,\n",
       "          0,    0,    0,    0,    0,    0,    0,    0,    0,    0,    0,\n",
       "       2195], dtype=int64)"
      ]
     },
     "execution_count": 56,
     "metadata": {},
     "output_type": "execute_result"
    }
   ],
   "source": [
    "df_modelagem.isna().sum().values"
   ]
  },
  {
   "cell_type": "code",
   "execution_count": 57,
   "metadata": {},
   "outputs": [
    {
     "name": "stdout",
     "output_type": "stream",
     "text": [
      "CS_SEXO: ['M' 'F' 'I']\n",
      "ETIONAMIDA: ['2' '0' '1' '9' '/']\n"
     ]
    }
   ],
   "source": [
    "print('CS_SEXO:',df_modelagem['CS_SEXO'].unique())\n",
    "print('ETIONAMIDA:',df_modelagem['ETIONAMIDA'].unique())\n",
    "\n",
    "#Checar o significado dessas classificações"
   ]
  },
  {
   "cell_type": "code",
   "execution_count": 58,
   "metadata": {},
   "outputs": [],
   "source": [
    "#Retirando linhas de categorias com poucas observações\n",
    "#Possiveis erros ou má interpretações\n",
    "\n",
    "df_modelagem = df_modelagem[df_modelagem['CS_SEXO'] != 'I']\n",
    "df_modelagem = df_modelagem[df_modelagem['ETIONAMIDA'] != '/']\n"
   ]
  },
  {
   "cell_type": "code",
   "execution_count": 59,
   "metadata": {},
   "outputs": [],
   "source": [
    "#Tratamento Dummies\n",
    "gender_mapping = {\"F\":1, \"M\":0}\n",
    "df_modelagem[dummy_var] = df_modelagem[dummy_var].map(gender_mapping) "
   ]
  },
  {
   "cell_type": "code",
   "execution_count": null,
   "metadata": {},
   "outputs": [],
   "source": [
    "df_modelagem['POP_RESIDENTE_MUNIC']"
   ]
  },
  {
   "cell_type": "code",
   "execution_count": 60,
   "metadata": {},
   "outputs": [],
   "source": [
    "#Convertendo para numerico\n",
    "convert_to_num = ['ETIONAMIDA', 'POP_RESIDENTE_MUNIC']\n",
    "\n",
    "for col in convert_to_num:\n",
    "    df_modelagem[col] = pd.to_numeric(df_modelagem[col])"
   ]
  },
  {
   "cell_type": "markdown",
   "metadata": {},
   "source": [
    "### ID Município e Informações Externas"
   ]
  },
  {
   "cell_type": "markdown",
   "metadata": {},
   "source": [
    "IBGE classifica os municípios baseado na quantidade de habitantes e localização: https://www.ibge.gov.br/apps/rural_urbano/#/home  \n",
    "Comecei com uma classificação simples baseada no IBGE, mas considerar os conglomerados urbanos pode fazer mais sentido.  \n",
    "_Ideia: clusterizar as cidades. Complicação: clusterizar baseado em que? Como evitar vazamento de dados?_\n",
    "\n",
    "Classificação atualmente adotada (mais simples):\n",
    "\n",
    "- Pequeno Porte I: Até 20.000 habitantes\n",
    "- Pequeno Porte II: De 20.001 a 50.000 habitantes\n",
    "- Médio Porte: De 50.001 a 100.000 habitantes\n",
    "- Grande Porte: De 100.001 a 900.000 habitantes\n",
    "- Metrópole: Acima de 900.000 habitantes "
   ]
  },
  {
   "cell_type": "code",
   "execution_count": 64,
   "metadata": {},
   "outputs": [],
   "source": [
    "# Definindo as faixas e os rótulos baseados na classificação do IBGE\n",
    "faixas = [0, 20000, 50000, 100000, 900000, float('inf')]\n",
    "rotulos = ['Pequeno I', 'Pequeno II', 'Médio', 'Grande', 'Metrópole']\n",
    "\n",
    "df_modelagem['porte_municipio'] = pd.cut(df_modelagem['POP_RESIDENTE_MUNIC'], bins=faixas, labels=rotulos, right=False)"
   ]
  },
  {
   "cell_type": "code",
   "execution_count": null,
   "metadata": {},
   "outputs": [
    {
     "data": {
      "text/plain": [
       "porte_municipio\n",
       "Metrópole     399255\n",
       "Grande        373777\n",
       "Pequeno II     97796\n",
       "Médio          84925\n",
       "Pequeno I      67922\n",
       "Name: count, dtype: int64"
      ]
     },
     "execution_count": 66,
     "metadata": {},
     "output_type": "execute_result"
    }
   ],
   "source": [
    "# Distribuição dos indivíduos em cada grupo de município\n",
    "df_modelagem['porte_municipio'].value_counts()"
   ]
  },
  {
   "cell_type": "markdown",
   "metadata": {},
   "source": [
    "## Segmentação Regiões Brasil"
   ]
  },
  {
   "cell_type": "code",
   "execution_count": 72,
   "metadata": {
    "colab": {
     "base_uri": "https://localhost:8080/"
    },
    "executionInfo": {
     "elapsed": 235,
     "status": "ok",
     "timestamp": 1740076693501,
     "user": {
      "displayName": "Marcela Quaresma",
      "userId": "03043466333898482850"
     },
     "user_tz": 180
    },
    "id": "wHDyI0wa5TDa",
    "outputId": "971eeaab-d7b0-4c55-d4ea-b641150eaf10"
   },
   "outputs": [
    {
     "name": "stdout",
     "output_type": "stream",
     "text": [
      "Quantidade de registros para Sudeste: 459163\n",
      "Quantidade de registros para Norte: 118875\n",
      "Quantidade de registros para Nordeste: 270175\n",
      "Quantidade de registros para Centro Oeste: 50278\n",
      "Quantidade de registros para Sul: 127200\n"
     ]
    }
   ],
   "source": [
    "sudeste = [31, 32, 33, 35]\n",
    "norte = [11,12,13,14,15,16,17]\n",
    "nordeste = [21,22,23,24,25,26,27,28,29]\n",
    "centro_oeste = [50, 51, 52, 53]\n",
    "sul = [41, 42, 43]\n",
    "\n",
    "# Filtrar para o estado de São Paulo (SG_UF == 35)\n",
    "df_sudeste = df_modelagem[df_modelagem['SG_UF'].isin(sudeste)].copy()\n",
    "df_norte = df_modelagem[df_modelagem['SG_UF'].isin(norte)].copy()\n",
    "df_nordeste = df_modelagem[df_modelagem['SG_UF'].isin(nordeste)].copy()\n",
    "df_centro_oeste = df_modelagem[df_modelagem['SG_UF'].isin(centro_oeste)].copy()\n",
    "df_sul =df_modelagem[df_modelagem['SG_UF'].isin(sul)].copy()\n",
    "\n",
    "# Confirmar o tamanho do novo DataFrame\n",
    "print(f\"Quantidade de registros para Sudeste: {df_sudeste.shape[0]}\")\n",
    "print(f\"Quantidade de registros para Norte: {df_norte.shape[0]}\")\n",
    "print(f\"Quantidade de registros para Nordeste: {df_nordeste.shape[0]}\")\n",
    "print(f\"Quantidade de registros para Centro Oeste: {df_centro_oeste.shape[0]}\")\n",
    "print(f\"Quantidade de registros para Sul: {df_sul.shape[0]}\")\n",
    "\n",
    "for df_for in [df_sudeste, df_norte, df_nordeste,df_centro_oeste,df_sul]:\n",
    "    df_for.drop(columns='SG_UF')"
   ]
  },
  {
   "cell_type": "code",
   "execution_count": 73,
   "metadata": {
    "colab": {
     "base_uri": "https://localhost:8080/",
     "height": 178
    },
    "executionInfo": {
     "elapsed": 24,
     "status": "ok",
     "timestamp": 1740076695431,
     "user": {
      "displayName": "Marcela Quaresma",
      "userId": "03043466333898482850"
     },
     "user_tz": 180
    },
    "id": "Fg4U42RY5rHc",
    "outputId": "72cab64f-09db-43f5-b504-78c38d20a5da"
   },
   "outputs": [
    {
     "data": {
      "text/html": [
       "<div>\n",
       "<style scoped>\n",
       "    .dataframe tbody tr th:only-of-type {\n",
       "        vertical-align: middle;\n",
       "    }\n",
       "\n",
       "    .dataframe tbody tr th {\n",
       "        vertical-align: top;\n",
       "    }\n",
       "\n",
       "    .dataframe thead th {\n",
       "        text-align: right;\n",
       "    }\n",
       "</style>\n",
       "<table border=\"1\" class=\"dataframe\">\n",
       "  <thead>\n",
       "    <tr style=\"text-align: right;\">\n",
       "      <th></th>\n",
       "      <th>sudeste</th>\n",
       "      <th>norte</th>\n",
       "      <th>nordeste</th>\n",
       "      <th>centro_oeste</th>\n",
       "      <th>sul</th>\n",
       "    </tr>\n",
       "    <tr>\n",
       "      <th>ABANDONO</th>\n",
       "      <th></th>\n",
       "      <th></th>\n",
       "      <th></th>\n",
       "      <th></th>\n",
       "      <th></th>\n",
       "    </tr>\n",
       "  </thead>\n",
       "  <tbody>\n",
       "    <tr>\n",
       "      <th>0</th>\n",
       "      <td>0.848733</td>\n",
       "      <td>0.856564</td>\n",
       "      <td>0.87765</td>\n",
       "      <td>0.859282</td>\n",
       "      <td>0.836313</td>\n",
       "    </tr>\n",
       "    <tr>\n",
       "      <th>1</th>\n",
       "      <td>0.151267</td>\n",
       "      <td>0.143436</td>\n",
       "      <td>0.12235</td>\n",
       "      <td>0.140718</td>\n",
       "      <td>0.163687</td>\n",
       "    </tr>\n",
       "  </tbody>\n",
       "</table>\n",
       "</div>"
      ],
      "text/plain": [
       "           sudeste     norte  nordeste  centro_oeste       sul\n",
       "ABANDONO                                                      \n",
       "0         0.848733  0.856564   0.87765      0.859282  0.836313\n",
       "1         0.151267  0.143436   0.12235      0.140718  0.163687"
      ]
     },
     "execution_count": 73,
     "metadata": {},
     "output_type": "execute_result"
    }
   ],
   "source": [
    "#Proporção de desfecho\n",
    "pd.DataFrame({'sudeste':df_sudeste['ABANDONO'].value_counts()/df_sudeste.shape[0],\n",
    "             'norte':df_norte['ABANDONO'].value_counts()/df_norte.shape[0],\n",
    "             'nordeste':df_nordeste['ABANDONO'].value_counts()/df_nordeste.shape[0],\n",
    "             'centro_oeste':df_centro_oeste['ABANDONO'].value_counts()/df_centro_oeste.shape[0],\n",
    "             'sul':df_sul['ABANDONO'].value_counts()/df_sul.shape[0],\n",
    "})"
   ]
  },
  {
   "cell_type": "code",
   "execution_count": 74,
   "metadata": {
    "id": "LEwIp-TgzsO7"
   },
   "outputs": [],
   "source": [
    "# 2. Separar variável dependente (y) e independentes (X)\n",
    "X_sudeste = df_sudeste[variaveis_independentes+['ID_MUNIC_A']]\n",
    "X_norte = df_norte[variaveis_independentes+['ID_MUNIC_A']]\n",
    "X_nordeste = df_nordeste[variaveis_independentes+['ID_MUNIC_A']]\n",
    "X_centro_oeste = df_centro_oeste[variaveis_independentes+['ID_MUNIC_A']]\n",
    "X_sul = df_sul[variaveis_independentes+['ID_MUNIC_A']]\n",
    "\n",
    "\n",
    "y_sudeste = df_sudeste['ABANDONO']\n",
    "y_norte = df_norte['ABANDONO']\n",
    "y_nordeste = df_nordeste['ABANDONO']\n",
    "y_centro_oeste = df_centro_oeste['ABANDONO']\n",
    "y_sul = df_sul['ABANDONO']\n"
   ]
  },
  {
   "cell_type": "markdown",
   "metadata": {},
   "source": [
    "#### Subamostragem <p>\n",
    "Devido a grande quantidade de linhas, iremos subamostrar para rodar os testes"
   ]
  },
  {
   "cell_type": "code",
   "execution_count": 75,
   "metadata": {},
   "outputs": [
    {
     "name": "stdout",
     "output_type": "stream",
     "text": [
      "Quantidade de registros para Sudeste: 45916\n",
      "Quantidade de registros para Norte: 11887\n",
      "Quantidade de registros para Nordeste: 27017\n",
      "Quantidade de registros para Centro Oeste: 5027\n",
      "Quantidade de registros para Sul: 12720\n"
     ]
    }
   ],
   "source": [
    "X_sample_sudeste, _, y_sample_sudeste, _ = train_test_split(X_sudeste, y_sudeste, train_size=0.1, stratify=y_sudeste, random_state=42)\n",
    "X_sample_norte, _, y_sample_norte, _ = train_test_split(X_norte, y_norte, train_size=0.1, stratify=y_norte, random_state=42)\n",
    "X_sample_nordeste, _, y_sample_nordeste, _ = train_test_split(X_nordeste, y_nordeste, train_size=0.1, stratify=y_nordeste, random_state=42)\n",
    "X_sample_centro_oeste, _, y_sample_centro_oeste, _ = train_test_split(X_centro_oeste, y_centro_oeste, train_size=0.1, stratify=y_centro_oeste, random_state=42)\n",
    "X_sample_sul, _, y_sample_sul, _ = train_test_split(X_sul, y_sul, train_size=0.1, stratify=y_sul, random_state=42)\n",
    "\n",
    "print(f\"Quantidade de registros para Sudeste: {X_sample_sudeste.shape[0]}\")\n",
    "print(f\"Quantidade de registros para Norte: {X_sample_norte.shape[0]}\")\n",
    "print(f\"Quantidade de registros para Nordeste: {X_sample_nordeste.shape[0]}\")\n",
    "print(f\"Quantidade de registros para Centro Oeste: {X_sample_centro_oeste.shape[0]}\")\n",
    "print(f\"Quantidade de registros para Sul: {X_sample_sul.shape[0]}\")"
   ]
  },
  {
   "cell_type": "code",
   "execution_count": 76,
   "metadata": {},
   "outputs": [],
   "source": [
    "#salvando as amostras\n",
    "os.makedirs(\"dados/amostras\", exist_ok=True)\n",
    "\n",
    "amostras = {\n",
    "    \"sudeste\": {\n",
    "        \"X_sample\": X_sample_sudeste,\n",
    "        \"y_sample\": y_sample_sudeste\n",
    "    },\n",
    "    \"norte\": {\n",
    "        \"X_sample\": X_sample_norte,\n",
    "        \"y_sample\": y_sample_norte\n",
    "    },\n",
    "    \"nordeste\": {\n",
    "        \"X_sample\": X_sample_nordeste,\n",
    "        \"y_sample\": y_sample_nordeste\n",
    "    },\n",
    "    \"centro_oeste\": {\n",
    "        \"X_sample\": X_sample_centro_oeste,\n",
    "        \"y_sample\": y_sample_centro_oeste\n",
    "    },\n",
    "    \"sul\": {\n",
    "        \"X_sample\": X_sample_sul,\n",
    "        \"y_sample\": y_sample_sul\n",
    "    }\n",
    "}\n",
    "\n",
    "# Loop para salvar todos os DataFrames\n",
    "for regiao, conjuntos in amostras.items():\n",
    "    for tipo, df in conjuntos.items():\n",
    "        nome_arquivo = f\"dados/amostras/{tipo}_{regiao}.csv\"\n",
    "        df.to_csv(nome_arquivo, index=False)"
   ]
  },
  {
   "cell_type": "markdown",
   "metadata": {},
   "source": [
    "### Separando Treino e Teste"
   ]
  },
  {
   "cell_type": "code",
   "execution_count": 77,
   "metadata": {},
   "outputs": [],
   "source": [
    "X_train_sudeste, X_test_sudeste, y_train_sudeste, y_test_sudeste = train_test_split(X_sample_sudeste, y_sample_sudeste, test_size=0.3, random_state=42, stratify=y_sample_sudeste)\n",
    "X_train_norte, X_test_norte, y_train_norte, y_test_norte = train_test_split(X_sample_norte, y_sample_norte, test_size=0.3, random_state=42, stratify=y_sample_norte)\n",
    "X_train_nordeste, X_test_nordeste, y_train_nordeste, y_test_nordeste = train_test_split(X_sample_nordeste, y_sample_nordeste, test_size=0.3, random_state=42, stratify=y_sample_nordeste)\n",
    "X_train_centro_oeste, X_test_centro_oeste, y_train_centro_oeste, y_test_centro_oeste = train_test_split(X_sample_centro_oeste, y_sample_centro_oeste, test_size=0.3, random_state=42, stratify=y_sample_centro_oeste)\n",
    "X_train_sul, X_test_sul, y_train_sul, y_test_sul = train_test_split(X_sample_sul, y_sample_sul, test_size=0.3, random_state=42, stratify=y_sample_sul)\n"
   ]
  },
  {
   "cell_type": "code",
   "execution_count": 78,
   "metadata": {},
   "outputs": [],
   "source": [
    "# Garante que a pasta 'train_test' exista\n",
    "os.makedirs(\"dados/train_test\", exist_ok=True)\n",
    "\n",
    "#salvando os csv\n",
    "dados = {\n",
    "    \"sudeste\": {\n",
    "        \"X_train\": X_train_sudeste,\n",
    "        \"X_test\": X_test_sudeste,\n",
    "        \"y_train\": y_train_sudeste,\n",
    "        \"y_test\": y_test_sudeste\n",
    "    },\n",
    "    \"norte\": {\n",
    "        \"X_train\": X_train_norte,\n",
    "        \"X_test\": X_test_norte,\n",
    "        \"y_train\": y_train_norte,\n",
    "        \"y_test\": y_test_norte\n",
    "    },\n",
    "    \"nordeste\": {\n",
    "        \"X_train\": X_train_nordeste,\n",
    "        \"X_test\": X_test_nordeste,\n",
    "        \"y_train\": y_train_nordeste,\n",
    "        \"y_test\": y_test_nordeste\n",
    "    },\n",
    "    \"centro_oeste\": {\n",
    "        \"X_train\": X_train_centro_oeste,\n",
    "        \"X_test\": X_test_centro_oeste,\n",
    "        \"y_train\": y_train_centro_oeste,\n",
    "        \"y_test\": y_test_centro_oeste\n",
    "    },\n",
    "    \"sul\": {\n",
    "        \"X_train\": X_train_sul,\n",
    "        \"X_test\": X_test_sul,\n",
    "        \"y_train\": y_train_sul,\n",
    "        \"y_test\": y_test_sul\n",
    "    }\n",
    "}\n",
    "\n",
    "# Loop para salvar todos os DataFrames\n",
    "for regiao, conjuntos in dados.items():\n",
    "    for tipo, df in conjuntos.items():\n",
    "        nome_arquivo = f\"dados/train_test/{tipo}_{regiao}.csv\"\n",
    "        df.to_csv(nome_arquivo, index=False)"
   ]
  }
 ],
 "metadata": {
  "colab": {
   "provenance": []
  },
  "kernelspec": {
   "display_name": "base",
   "language": "python",
   "name": "python3"
  },
  "language_info": {
   "codemirror_mode": {
    "name": "ipython",
    "version": 3
   },
   "file_extension": ".py",
   "mimetype": "text/x-python",
   "name": "python",
   "nbconvert_exporter": "python",
   "pygments_lexer": "ipython3",
   "version": "3.11.7"
  }
 },
 "nbformat": 4,
 "nbformat_minor": 0
}
