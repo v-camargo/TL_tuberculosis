{
 "cells": [
  {
   "cell_type": "code",
   "execution_count": 1,
   "metadata": {
    "id": "AzN0v5QZVf42"
   },
   "outputs": [],
   "source": [
    "import pandas as pd\n",
    "from sklearn.model_selection import train_test_split\n",
    "import os"
   ]
  },
  {
   "cell_type": "markdown",
   "metadata": {},
   "source": [
    "## Setup e Importação"
   ]
  },
  {
   "cell_type": "code",
   "execution_count": 2,
   "metadata": {
    "executionInfo": {
     "elapsed": 24216,
     "status": "ok",
     "timestamp": 1740080633968,
     "user": {
      "displayName": "Marcela Quaresma",
      "userId": "03043466333898482850"
     },
     "user_tz": 180
    },
    "id": "p-RPvxjJyydR"
   },
   "outputs": [],
   "source": [
    "# Caminho do arquivo CSV no Google Drive\n",
    "csv_file = os.getcwd() +\"\\\\dados\\\\dados_tuberculose_2013_2023_limpo.csv\"\n",
    "\n",
    "df_raw = pd.read_csv(csv_file, encoding='latin1', low_memory=False)"
   ]
  },
  {
   "cell_type": "code",
   "execution_count": 4,
   "metadata": {},
   "outputs": [],
   "source": [
    "dummy_var = ('CS_SEXO')"
   ]
  },
  {
   "cell_type": "markdown",
   "metadata": {},
   "source": [
    "## Filtros "
   ]
  },
  {
   "cell_type": "markdown",
   "metadata": {},
   "source": [
    "| Nome UF | Código IBGE |\n",
    "| --- | --- |\n",
    "|Rondônia|11|\n",
    "|Acre|12|\n",
    "|Amazonas|13|\n",
    "|Roraima|14|\n",
    "|Pará|15|\n",
    "|Amapá|16|\n",
    "|Tocantins|17|\n",
    "|Maranhão|21|\n",
    "|Piauí|22|\n",
    "|Ceará|23|\n",
    "|Rio Grande do Norte|24|\n",
    "|Paraíba|25|\n",
    "|Pernambuco|26|\n",
    "|Alagoas|27|\n",
    "|Sergipe|28|\n",
    "|Bahia|29|\n",
    "|Minas Gerais|31|\n",
    "|Espírito Santo|32|\n",
    "|Rio de Janeiro|33|\n",
    "|São Paulo|35|\n",
    "|Paraná|41|\n",
    "|Santa Catarina|42|\n",
    "|Rio Grande do Sul|43|\n",
    "|Mato Grosso do Sul|50|\n",
    "|Mato Grosso|51|\n",
    "|Goiás|52|\n",
    "|Distrito Federal|53|"
   ]
  },
  {
   "cell_type": "markdown",
   "metadata": {},
   "source": [
    "## Seleção de Variáveis e Tratamento\n"
   ]
  },
  {
   "cell_type": "code",
   "execution_count": 66,
   "metadata": {},
   "outputs": [],
   "source": [
    "# 1. Criar o DataFrame com as variáveis selecionadas\n",
    "variaveis_independentes = [ 'IDADE_ANOS', 'CS_SEXO', 'CS_GESTANT', 'CS_RACA', 'CS_ESCOL_N', 'ID_OCUPA_N', 'TRATAMENTO',\n",
    "    'RAIOX_TORA', 'TESTE_TUBE', 'FORMA', 'AGRAVAIDS', 'AGRAVALCOO', 'AGRAVDIABE',\n",
    "    'AGRAVDOENC', 'AGRAVOUTRA', 'AGRAVDROGA', 'AGRAVTABAC', 'BACILOSC_E', 'CULTURA_ES', 'CULTURA_OU', 'HIV', 'HISTOPATOL',\n",
    "    'RIFAMPICIN', 'ISONIAZIDA', 'ETAMBUTOL', 'ESTREPTOMI', 'PIRAZINAMI',\n",
    "    'ETIONAMIDA','NU_COMU_EX', 'DOENCA_TRA', 'TRATSUP_AT',  \n",
    "    'TPUNINOT', 'POP_LIBER', 'POP_RUA', 'POP_SAUDE', 'POP_IMIG',\n",
    "    'BENEF_GOV', 'TEST_MOLEC', 'TEST_SENSI', 'ANT_RETRO', 'TRANSF']\n",
    "\n",
    "variaveis_local = ['SG_UF_AT','SG_UF_2','ID_MUNIC_A']\n",
    "variaveis_acompanhamento = ['BACILOSC_1', 'BACILOSC_2', 'BACILOSC_3', 'BACILOSC_4', 'BACILOSC_5', 'BACILOSC_6', 'BAC_APOS_6', 'BACILOS_E2', 'BACILOSC_O', 'SITUA_9_M','SITUA_12_M']\n",
    "\n",
    "\n",
    "# Novo DataFrame com as variáveis independentes e alvo\n",
    "df_modelagem = df_raw[['ABANDONO'] + variaveis_independentes +['ID_MUNIC_A']+['SG_UF']].copy()"
   ]
  },
  {
   "cell_type": "markdown",
   "metadata": {},
   "source": [
    "v4: 'ID_OCUPA_N', 'TESTE_TUBE', 'CULTURA_OU', 'ETIONAMIDA', 'NU_CONTATO','NU_COMU_EX', 'DOENCA_TRA'\n",
    "\n",
    "<P> \n",
    "Comentários: \n",
    "<p>\n",
    "\n",
    "- Retiro campo HIV, senod que já tenho AGRAVAIDS?   \n",
    "- Variavel ETIONAMIDA está correta? No dicionario está mal definida  \n",
    "- Variável OUTRAS pode ser retirada? Qual a proporção de nao informados dela? Não estou utilizando a OUTRAS_DES \n",
    "    - OUTRAS foi retirado\n",
    "- Variáveis 'NU_CONTATO','NU_COMU_EX' não seguem regra de negócio. Há registros de maior NU_COMU_EX (numero de contatos examinados) do que NU_CONTATO (numero de contatos existentes). QUal confiar? Alem disso, NU_COMU_EX tem bastante 9. Será que o 9 foi automático?\n",
    "    - NU_CONTATO foi retirado\n",
    "- ANT_RETRO não está descrita no dicionário e, se for ANTIRRETROVIRAL, existem mais números do que 0,1,2,9. Vale a pena deixar essa variável?"
   ]
  },
  {
   "cell_type": "code",
   "execution_count": null,
   "metadata": {},
   "outputs": [
    {
     "data": {
      "text/html": [
       "<div>\n",
       "<style scoped>\n",
       "    .dataframe tbody tr th:only-of-type {\n",
       "        vertical-align: middle;\n",
       "    }\n",
       "\n",
       "    .dataframe tbody tr th {\n",
       "        vertical-align: top;\n",
       "    }\n",
       "\n",
       "    .dataframe thead th {\n",
       "        text-align: right;\n",
       "    }\n",
       "</style>\n",
       "<table border=\"1\" class=\"dataframe\">\n",
       "  <thead>\n",
       "    <tr style=\"text-align: right;\">\n",
       "      <th></th>\n",
       "      <th>NU_CONTATO</th>\n",
       "      <th>NU_COMU_EX</th>\n",
       "    </tr>\n",
       "  </thead>\n",
       "  <tbody>\n",
       "    <tr>\n",
       "      <th>298</th>\n",
       "      <td>0.0</td>\n",
       "      <td>3.0</td>\n",
       "    </tr>\n",
       "    <tr>\n",
       "      <th>303</th>\n",
       "      <td>2.0</td>\n",
       "      <td>4.0</td>\n",
       "    </tr>\n",
       "    <tr>\n",
       "      <th>317</th>\n",
       "      <td>0.0</td>\n",
       "      <td>2.0</td>\n",
       "    </tr>\n",
       "    <tr>\n",
       "      <th>439</th>\n",
       "      <td>0.0</td>\n",
       "      <td>2.0</td>\n",
       "    </tr>\n",
       "    <tr>\n",
       "      <th>591</th>\n",
       "      <td>0.0</td>\n",
       "      <td>4.0</td>\n",
       "    </tr>\n",
       "    <tr>\n",
       "      <th>...</th>\n",
       "      <td>...</td>\n",
       "      <td>...</td>\n",
       "    </tr>\n",
       "    <tr>\n",
       "      <th>1025928</th>\n",
       "      <td>1.0</td>\n",
       "      <td>9.0</td>\n",
       "    </tr>\n",
       "    <tr>\n",
       "      <th>1025937</th>\n",
       "      <td>0.0</td>\n",
       "      <td>9.0</td>\n",
       "    </tr>\n",
       "    <tr>\n",
       "      <th>1025942</th>\n",
       "      <td>4.0</td>\n",
       "      <td>7.0</td>\n",
       "    </tr>\n",
       "    <tr>\n",
       "      <th>1025952</th>\n",
       "      <td>0.0</td>\n",
       "      <td>9.0</td>\n",
       "    </tr>\n",
       "    <tr>\n",
       "      <th>1025962</th>\n",
       "      <td>0.0</td>\n",
       "      <td>9.0</td>\n",
       "    </tr>\n",
       "  </tbody>\n",
       "</table>\n",
       "<p>94874 rows × 2 columns</p>\n",
       "</div>"
      ],
      "text/plain": [
       "         NU_CONTATO  NU_COMU_EX\n",
       "298             0.0         3.0\n",
       "303             2.0         4.0\n",
       "317             0.0         2.0\n",
       "439             0.0         2.0\n",
       "591             0.0         4.0\n",
       "...             ...         ...\n",
       "1025928         1.0         9.0\n",
       "1025937         0.0         9.0\n",
       "1025942         4.0         7.0\n",
       "1025952         0.0         9.0\n",
       "1025962         0.0         9.0\n",
       "\n",
       "[94874 rows x 2 columns]"
      ]
     },
     "execution_count": 47,
     "metadata": {},
     "output_type": "execute_result"
    }
   ],
   "source": [
    "#Linhas rascunho na exploração\n",
    "\n",
    "df_raw[['NU_CONTATO','NU_COMU_EX']][df_raw['NU_CONTATO'] - df_raw['NU_COMU_EX'] < 0]\n",
    "df_raw['ANT_RETRO'].value_counts()/df_raw.shape[0]\n",
    "df_raw['NU_COMU_EX'].value_counts().sort_values(ascending=False).head(10)"
   ]
  },
  {
   "cell_type": "code",
   "execution_count": 67,
   "metadata": {},
   "outputs": [
    {
     "data": {
      "text/plain": [
       "array([0, 0, 0, 0, 0, 0, 0, 0, 0, 0, 0, 0, 0, 0, 0, 0, 0, 0, 0, 0, 0, 0,\n",
       "       0, 0, 0, 0, 0, 0, 0, 0, 0, 0, 0, 0, 0, 0, 0, 0, 0, 0, 0, 0, 0, 0],\n",
       "      dtype=int64)"
      ]
     },
     "execution_count": 67,
     "metadata": {},
     "output_type": "execute_result"
    }
   ],
   "source": [
    "df_modelagem.isna().sum().values"
   ]
  },
  {
   "cell_type": "code",
   "execution_count": 68,
   "metadata": {},
   "outputs": [
    {
     "name": "stdout",
     "output_type": "stream",
     "text": [
      "CS_SEXO: ['M' 'F' 'I']\n",
      "ETIONAMIDA: ['2' '0' '1' '9' '/']\n"
     ]
    }
   ],
   "source": [
    "print('CS_SEXO:',df_modelagem['CS_SEXO'].unique())\n",
    "print('ETIONAMIDA:',df_modelagem['ETIONAMIDA'].unique())\n",
    "\n",
    "#Checar o significado dessas classificações"
   ]
  },
  {
   "cell_type": "code",
   "execution_count": 69,
   "metadata": {},
   "outputs": [],
   "source": [
    "#Retirando linhas de categorias com poucas observações\n",
    "#Possiveis erros ou má interpretações\n",
    "\n",
    "df_modelagem = df_modelagem[df_modelagem['CS_SEXO'] != 'I']\n",
    "df_modelagem = df_modelagem[df_modelagem['ETIONAMIDA'] != '/']\n"
   ]
  },
  {
   "cell_type": "code",
   "execution_count": 70,
   "metadata": {},
   "outputs": [],
   "source": [
    "#Tratamento Dummies\n",
    "gender_mapping = {\"F\":1, \"M\":0}\n",
    "df_modelagem[dummy_var] = df_modelagem[dummy_var].map(gender_mapping) "
   ]
  },
  {
   "cell_type": "code",
   "execution_count": 71,
   "metadata": {},
   "outputs": [],
   "source": [
    "#Convertendo para numerico\n",
    "convert_to_num = ['ETIONAMIDA']\n",
    "\n",
    "for col in convert_to_num:\n",
    "    df_modelagem[col] = pd.to_numeric(df_modelagem[col])"
   ]
  },
  {
   "cell_type": "markdown",
   "metadata": {},
   "source": [
    "## Segmentação Regiões Brasil"
   ]
  },
  {
   "cell_type": "code",
   "execution_count": 72,
   "metadata": {
    "colab": {
     "base_uri": "https://localhost:8080/"
    },
    "executionInfo": {
     "elapsed": 235,
     "status": "ok",
     "timestamp": 1740076693501,
     "user": {
      "displayName": "Marcela Quaresma",
      "userId": "03043466333898482850"
     },
     "user_tz": 180
    },
    "id": "wHDyI0wa5TDa",
    "outputId": "971eeaab-d7b0-4c55-d4ea-b641150eaf10"
   },
   "outputs": [
    {
     "name": "stdout",
     "output_type": "stream",
     "text": [
      "Quantidade de registros para Sudeste: 459163\n",
      "Quantidade de registros para Norte: 118875\n",
      "Quantidade de registros para Nordeste: 270175\n",
      "Quantidade de registros para Centro Oeste: 50278\n",
      "Quantidade de registros para Sul: 127200\n"
     ]
    }
   ],
   "source": [
    "sudeste = [31, 32, 33, 35]\n",
    "norte = [11,12,13,14,15,16,17]\n",
    "nordeste = [21,22,23,24,25,26,27,28,29]\n",
    "centro_oeste = [50, 51, 52, 53]\n",
    "sul = [41, 42, 43]\n",
    "\n",
    "# Filtrar para o estado de São Paulo (SG_UF == 35)\n",
    "df_sudeste = df_modelagem[df_modelagem['SG_UF'].isin(sudeste)].copy()\n",
    "df_norte = df_modelagem[df_modelagem['SG_UF'].isin(norte)].copy()\n",
    "df_nordeste = df_modelagem[df_modelagem['SG_UF'].isin(nordeste)].copy()\n",
    "df_centro_oeste = df_modelagem[df_modelagem['SG_UF'].isin(centro_oeste)].copy()\n",
    "df_sul =df_modelagem[df_modelagem['SG_UF'].isin(sul)].copy()\n",
    "\n",
    "# Confirmar o tamanho do novo DataFrame\n",
    "print(f\"Quantidade de registros para Sudeste: {df_sudeste.shape[0]}\")\n",
    "print(f\"Quantidade de registros para Norte: {df_norte.shape[0]}\")\n",
    "print(f\"Quantidade de registros para Nordeste: {df_nordeste.shape[0]}\")\n",
    "print(f\"Quantidade de registros para Centro Oeste: {df_centro_oeste.shape[0]}\")\n",
    "print(f\"Quantidade de registros para Sul: {df_sul.shape[0]}\")\n",
    "\n",
    "for df_for in [df_sudeste, df_norte, df_nordeste,df_centro_oeste,df_sul]:\n",
    "    df_for.drop(columns='SG_UF')"
   ]
  },
  {
   "cell_type": "code",
   "execution_count": 73,
   "metadata": {
    "colab": {
     "base_uri": "https://localhost:8080/",
     "height": 178
    },
    "executionInfo": {
     "elapsed": 24,
     "status": "ok",
     "timestamp": 1740076695431,
     "user": {
      "displayName": "Marcela Quaresma",
      "userId": "03043466333898482850"
     },
     "user_tz": 180
    },
    "id": "Fg4U42RY5rHc",
    "outputId": "72cab64f-09db-43f5-b504-78c38d20a5da"
   },
   "outputs": [
    {
     "data": {
      "text/html": [
       "<div>\n",
       "<style scoped>\n",
       "    .dataframe tbody tr th:only-of-type {\n",
       "        vertical-align: middle;\n",
       "    }\n",
       "\n",
       "    .dataframe tbody tr th {\n",
       "        vertical-align: top;\n",
       "    }\n",
       "\n",
       "    .dataframe thead th {\n",
       "        text-align: right;\n",
       "    }\n",
       "</style>\n",
       "<table border=\"1\" class=\"dataframe\">\n",
       "  <thead>\n",
       "    <tr style=\"text-align: right;\">\n",
       "      <th></th>\n",
       "      <th>sudeste</th>\n",
       "      <th>norte</th>\n",
       "      <th>nordeste</th>\n",
       "      <th>centro_oeste</th>\n",
       "      <th>sul</th>\n",
       "    </tr>\n",
       "    <tr>\n",
       "      <th>ABANDONO</th>\n",
       "      <th></th>\n",
       "      <th></th>\n",
       "      <th></th>\n",
       "      <th></th>\n",
       "      <th></th>\n",
       "    </tr>\n",
       "  </thead>\n",
       "  <tbody>\n",
       "    <tr>\n",
       "      <th>0</th>\n",
       "      <td>0.848733</td>\n",
       "      <td>0.856564</td>\n",
       "      <td>0.87765</td>\n",
       "      <td>0.859282</td>\n",
       "      <td>0.836313</td>\n",
       "    </tr>\n",
       "    <tr>\n",
       "      <th>1</th>\n",
       "      <td>0.151267</td>\n",
       "      <td>0.143436</td>\n",
       "      <td>0.12235</td>\n",
       "      <td>0.140718</td>\n",
       "      <td>0.163687</td>\n",
       "    </tr>\n",
       "  </tbody>\n",
       "</table>\n",
       "</div>"
      ],
      "text/plain": [
       "           sudeste     norte  nordeste  centro_oeste       sul\n",
       "ABANDONO                                                      \n",
       "0         0.848733  0.856564   0.87765      0.859282  0.836313\n",
       "1         0.151267  0.143436   0.12235      0.140718  0.163687"
      ]
     },
     "execution_count": 73,
     "metadata": {},
     "output_type": "execute_result"
    }
   ],
   "source": [
    "#Proporção de desfecho\n",
    "pd.DataFrame({'sudeste':df_sudeste['ABANDONO'].value_counts()/df_sudeste.shape[0],\n",
    "             'norte':df_norte['ABANDONO'].value_counts()/df_norte.shape[0],\n",
    "             'nordeste':df_nordeste['ABANDONO'].value_counts()/df_nordeste.shape[0],\n",
    "             'centro_oeste':df_centro_oeste['ABANDONO'].value_counts()/df_centro_oeste.shape[0],\n",
    "             'sul':df_sul['ABANDONO'].value_counts()/df_sul.shape[0],\n",
    "})"
   ]
  },
  {
   "cell_type": "code",
   "execution_count": 74,
   "metadata": {
    "id": "LEwIp-TgzsO7"
   },
   "outputs": [],
   "source": [
    "# 2. Separar variável dependente (y) e independentes (X)\n",
    "X_sudeste = df_sudeste[variaveis_independentes+['ID_MUNIC_A']]\n",
    "X_norte = df_norte[variaveis_independentes+['ID_MUNIC_A']]\n",
    "X_nordeste = df_nordeste[variaveis_independentes+['ID_MUNIC_A']]\n",
    "X_centro_oeste = df_centro_oeste[variaveis_independentes+['ID_MUNIC_A']]\n",
    "X_sul = df_sul[variaveis_independentes+['ID_MUNIC_A']]\n",
    "\n",
    "\n",
    "y_sudeste = df_sudeste['ABANDONO']\n",
    "y_norte = df_norte['ABANDONO']\n",
    "y_nordeste = df_nordeste['ABANDONO']\n",
    "y_centro_oeste = df_centro_oeste['ABANDONO']\n",
    "y_sul = df_sul['ABANDONO']\n"
   ]
  },
  {
   "cell_type": "markdown",
   "metadata": {},
   "source": [
    "#### Subamostragem <p>\n",
    "Devido a grande quantidade de linhas, iremos subamostrar para rodar os testes"
   ]
  },
  {
   "cell_type": "code",
   "execution_count": 75,
   "metadata": {},
   "outputs": [
    {
     "name": "stdout",
     "output_type": "stream",
     "text": [
      "Quantidade de registros para Sudeste: 45916\n",
      "Quantidade de registros para Norte: 11887\n",
      "Quantidade de registros para Nordeste: 27017\n",
      "Quantidade de registros para Centro Oeste: 5027\n",
      "Quantidade de registros para Sul: 12720\n"
     ]
    }
   ],
   "source": [
    "X_sample_sudeste, _, y_sample_sudeste, _ = train_test_split(X_sudeste, y_sudeste, train_size=0.1, stratify=y_sudeste, random_state=42)\n",
    "X_sample_norte, _, y_sample_norte, _ = train_test_split(X_norte, y_norte, train_size=0.1, stratify=y_norte, random_state=42)\n",
    "X_sample_nordeste, _, y_sample_nordeste, _ = train_test_split(X_nordeste, y_nordeste, train_size=0.1, stratify=y_nordeste, random_state=42)\n",
    "X_sample_centro_oeste, _, y_sample_centro_oeste, _ = train_test_split(X_centro_oeste, y_centro_oeste, train_size=0.1, stratify=y_centro_oeste, random_state=42)\n",
    "X_sample_sul, _, y_sample_sul, _ = train_test_split(X_sul, y_sul, train_size=0.1, stratify=y_sul, random_state=42)\n",
    "\n",
    "print(f\"Quantidade de registros para Sudeste: {X_sample_sudeste.shape[0]}\")\n",
    "print(f\"Quantidade de registros para Norte: {X_sample_norte.shape[0]}\")\n",
    "print(f\"Quantidade de registros para Nordeste: {X_sample_nordeste.shape[0]}\")\n",
    "print(f\"Quantidade de registros para Centro Oeste: {X_sample_centro_oeste.shape[0]}\")\n",
    "print(f\"Quantidade de registros para Sul: {X_sample_sul.shape[0]}\")"
   ]
  },
  {
   "cell_type": "code",
   "execution_count": 76,
   "metadata": {},
   "outputs": [],
   "source": [
    "#salvando as amostras\n",
    "os.makedirs(\"dados/amostras\", exist_ok=True)\n",
    "\n",
    "amostras = {\n",
    "    \"sudeste\": {\n",
    "        \"X_sample\": X_sample_sudeste,\n",
    "        \"y_sample\": y_sample_sudeste\n",
    "    },\n",
    "    \"norte\": {\n",
    "        \"X_sample\": X_sample_norte,\n",
    "        \"y_sample\": y_sample_norte\n",
    "    },\n",
    "    \"nordeste\": {\n",
    "        \"X_sample\": X_sample_nordeste,\n",
    "        \"y_sample\": y_sample_nordeste\n",
    "    },\n",
    "    \"centro_oeste\": {\n",
    "        \"X_sample\": X_sample_centro_oeste,\n",
    "        \"y_sample\": y_sample_centro_oeste\n",
    "    },\n",
    "    \"sul\": {\n",
    "        \"X_sample\": X_sample_sul,\n",
    "        \"y_sample\": y_sample_sul\n",
    "    }\n",
    "}\n",
    "\n",
    "# Loop para salvar todos os DataFrames\n",
    "for regiao, conjuntos in amostras.items():\n",
    "    for tipo, df in conjuntos.items():\n",
    "        nome_arquivo = f\"dados/amostras/{tipo}_{regiao}.csv\"\n",
    "        df.to_csv(nome_arquivo, index=False)"
   ]
  },
  {
   "cell_type": "markdown",
   "metadata": {},
   "source": [
    "### Separando Treino e Teste"
   ]
  },
  {
   "cell_type": "code",
   "execution_count": 77,
   "metadata": {},
   "outputs": [],
   "source": [
    "X_train_sudeste, X_test_sudeste, y_train_sudeste, y_test_sudeste = train_test_split(X_sample_sudeste, y_sample_sudeste, test_size=0.3, random_state=42, stratify=y_sample_sudeste)\n",
    "X_train_norte, X_test_norte, y_train_norte, y_test_norte = train_test_split(X_sample_norte, y_sample_norte, test_size=0.3, random_state=42, stratify=y_sample_norte)\n",
    "X_train_nordeste, X_test_nordeste, y_train_nordeste, y_test_nordeste = train_test_split(X_sample_nordeste, y_sample_nordeste, test_size=0.3, random_state=42, stratify=y_sample_nordeste)\n",
    "X_train_centro_oeste, X_test_centro_oeste, y_train_centro_oeste, y_test_centro_oeste = train_test_split(X_sample_centro_oeste, y_sample_centro_oeste, test_size=0.3, random_state=42, stratify=y_sample_centro_oeste)\n",
    "X_train_sul, X_test_sul, y_train_sul, y_test_sul = train_test_split(X_sample_sul, y_sample_sul, test_size=0.3, random_state=42, stratify=y_sample_sul)\n"
   ]
  },
  {
   "cell_type": "code",
   "execution_count": 78,
   "metadata": {},
   "outputs": [],
   "source": [
    "# Garante que a pasta 'train_test' exista\n",
    "os.makedirs(\"dados/train_test\", exist_ok=True)\n",
    "\n",
    "#salvando os csv\n",
    "dados = {\n",
    "    \"sudeste\": {\n",
    "        \"X_train\": X_train_sudeste,\n",
    "        \"X_test\": X_test_sudeste,\n",
    "        \"y_train\": y_train_sudeste,\n",
    "        \"y_test\": y_test_sudeste\n",
    "    },\n",
    "    \"norte\": {\n",
    "        \"X_train\": X_train_norte,\n",
    "        \"X_test\": X_test_norte,\n",
    "        \"y_train\": y_train_norte,\n",
    "        \"y_test\": y_test_norte\n",
    "    },\n",
    "    \"nordeste\": {\n",
    "        \"X_train\": X_train_nordeste,\n",
    "        \"X_test\": X_test_nordeste,\n",
    "        \"y_train\": y_train_nordeste,\n",
    "        \"y_test\": y_test_nordeste\n",
    "    },\n",
    "    \"centro_oeste\": {\n",
    "        \"X_train\": X_train_centro_oeste,\n",
    "        \"X_test\": X_test_centro_oeste,\n",
    "        \"y_train\": y_train_centro_oeste,\n",
    "        \"y_test\": y_test_centro_oeste\n",
    "    },\n",
    "    \"sul\": {\n",
    "        \"X_train\": X_train_sul,\n",
    "        \"X_test\": X_test_sul,\n",
    "        \"y_train\": y_train_sul,\n",
    "        \"y_test\": y_test_sul\n",
    "    }\n",
    "}\n",
    "\n",
    "# Loop para salvar todos os DataFrames\n",
    "for regiao, conjuntos in dados.items():\n",
    "    for tipo, df in conjuntos.items():\n",
    "        nome_arquivo = f\"dados/train_test/{tipo}_{regiao}.csv\"\n",
    "        df.to_csv(nome_arquivo, index=False)"
   ]
  }
 ],
 "metadata": {
  "colab": {
   "provenance": []
  },
  "kernelspec": {
   "display_name": "base",
   "language": "python",
   "name": "python3"
  },
  "language_info": {
   "codemirror_mode": {
    "name": "ipython",
    "version": 3
   },
   "file_extension": ".py",
   "mimetype": "text/x-python",
   "name": "python",
   "nbconvert_exporter": "python",
   "pygments_lexer": "ipython3",
   "version": "3.11.7"
  }
 },
 "nbformat": 4,
 "nbformat_minor": 0
}
